{
  "cells": [
    {
      "cell_type": "markdown",
      "metadata": {
        "id": "61d3_ZbY_ObO"
      },
      "source": [
        "**Importation de la bibliothèque nécessaire pour gérer les fichiers dans Google Colab depuis l'ordinateur local vers l'environnement Google Colab**"
      ]
    },
    {
      "cell_type": "code",
      "execution_count": null,
      "metadata": {
        "colab": {
          "base_uri": "https://localhost:8080/",
          "height": 73
        },
        "id": "CHzcaumh1UlE",
        "outputId": "9d8c67bf-2398-4a3c-9242-559620493b71"
      },
      "outputs": [
        {
          "data": {
            "text/html": [
              "\n",
              "     <input type=\"file\" id=\"files-e653f843-39c7-4458-afc8-c5a36332ec39\" name=\"files[]\" multiple disabled\n",
              "        style=\"border:none\" />\n",
              "     <output id=\"result-e653f843-39c7-4458-afc8-c5a36332ec39\">\n",
              "      Upload widget is only available when the cell has been executed in the\n",
              "      current browser session. Please rerun this cell to enable.\n",
              "      </output>\n",
              "      <script>// Copyright 2017 Google LLC\n",
              "//\n",
              "// Licensed under the Apache License, Version 2.0 (the \"License\");\n",
              "// you may not use this file except in compliance with the License.\n",
              "// You may obtain a copy of the License at\n",
              "//\n",
              "//      http://www.apache.org/licenses/LICENSE-2.0\n",
              "//\n",
              "// Unless required by applicable law or agreed to in writing, software\n",
              "// distributed under the License is distributed on an \"AS IS\" BASIS,\n",
              "// WITHOUT WARRANTIES OR CONDITIONS OF ANY KIND, either express or implied.\n",
              "// See the License for the specific language governing permissions and\n",
              "// limitations under the License.\n",
              "\n",
              "/**\n",
              " * @fileoverview Helpers for google.colab Python module.\n",
              " */\n",
              "(function(scope) {\n",
              "function span(text, styleAttributes = {}) {\n",
              "  const element = document.createElement('span');\n",
              "  element.textContent = text;\n",
              "  for (const key of Object.keys(styleAttributes)) {\n",
              "    element.style[key] = styleAttributes[key];\n",
              "  }\n",
              "  return element;\n",
              "}\n",
              "\n",
              "// Max number of bytes which will be uploaded at a time.\n",
              "const MAX_PAYLOAD_SIZE = 100 * 1024;\n",
              "\n",
              "function _uploadFiles(inputId, outputId) {\n",
              "  const steps = uploadFilesStep(inputId, outputId);\n",
              "  const outputElement = document.getElementById(outputId);\n",
              "  // Cache steps on the outputElement to make it available for the next call\n",
              "  // to uploadFilesContinue from Python.\n",
              "  outputElement.steps = steps;\n",
              "\n",
              "  return _uploadFilesContinue(outputId);\n",
              "}\n",
              "\n",
              "// This is roughly an async generator (not supported in the browser yet),\n",
              "// where there are multiple asynchronous steps and the Python side is going\n",
              "// to poll for completion of each step.\n",
              "// This uses a Promise to block the python side on completion of each step,\n",
              "// then passes the result of the previous step as the input to the next step.\n",
              "function _uploadFilesContinue(outputId) {\n",
              "  const outputElement = document.getElementById(outputId);\n",
              "  const steps = outputElement.steps;\n",
              "\n",
              "  const next = steps.next(outputElement.lastPromiseValue);\n",
              "  return Promise.resolve(next.value.promise).then((value) => {\n",
              "    // Cache the last promise value to make it available to the next\n",
              "    // step of the generator.\n",
              "    outputElement.lastPromiseValue = value;\n",
              "    return next.value.response;\n",
              "  });\n",
              "}\n",
              "\n",
              "/**\n",
              " * Generator function which is called between each async step of the upload\n",
              " * process.\n",
              " * @param {string} inputId Element ID of the input file picker element.\n",
              " * @param {string} outputId Element ID of the output display.\n",
              " * @return {!Iterable<!Object>} Iterable of next steps.\n",
              " */\n",
              "function* uploadFilesStep(inputId, outputId) {\n",
              "  const inputElement = document.getElementById(inputId);\n",
              "  inputElement.disabled = false;\n",
              "\n",
              "  const outputElement = document.getElementById(outputId);\n",
              "  outputElement.innerHTML = '';\n",
              "\n",
              "  const pickedPromise = new Promise((resolve) => {\n",
              "    inputElement.addEventListener('change', (e) => {\n",
              "      resolve(e.target.files);\n",
              "    });\n",
              "  });\n",
              "\n",
              "  const cancel = document.createElement('button');\n",
              "  inputElement.parentElement.appendChild(cancel);\n",
              "  cancel.textContent = 'Cancel upload';\n",
              "  const cancelPromise = new Promise((resolve) => {\n",
              "    cancel.onclick = () => {\n",
              "      resolve(null);\n",
              "    };\n",
              "  });\n",
              "\n",
              "  // Wait for the user to pick the files.\n",
              "  const files = yield {\n",
              "    promise: Promise.race([pickedPromise, cancelPromise]),\n",
              "    response: {\n",
              "      action: 'starting',\n",
              "    }\n",
              "  };\n",
              "\n",
              "  cancel.remove();\n",
              "\n",
              "  // Disable the input element since further picks are not allowed.\n",
              "  inputElement.disabled = true;\n",
              "\n",
              "  if (!files) {\n",
              "    return {\n",
              "      response: {\n",
              "        action: 'complete',\n",
              "      }\n",
              "    };\n",
              "  }\n",
              "\n",
              "  for (const file of files) {\n",
              "    const li = document.createElement('li');\n",
              "    li.append(span(file.name, {fontWeight: 'bold'}));\n",
              "    li.append(span(\n",
              "        `(${file.type || 'n/a'}) - ${file.size} bytes, ` +\n",
              "        `last modified: ${\n",
              "            file.lastModifiedDate ? file.lastModifiedDate.toLocaleDateString() :\n",
              "                                    'n/a'} - `));\n",
              "    const percent = span('0% done');\n",
              "    li.appendChild(percent);\n",
              "\n",
              "    outputElement.appendChild(li);\n",
              "\n",
              "    const fileDataPromise = new Promise((resolve) => {\n",
              "      const reader = new FileReader();\n",
              "      reader.onload = (e) => {\n",
              "        resolve(e.target.result);\n",
              "      };\n",
              "      reader.readAsArrayBuffer(file);\n",
              "    });\n",
              "    // Wait for the data to be ready.\n",
              "    let fileData = yield {\n",
              "      promise: fileDataPromise,\n",
              "      response: {\n",
              "        action: 'continue',\n",
              "      }\n",
              "    };\n",
              "\n",
              "    // Use a chunked sending to avoid message size limits. See b/62115660.\n",
              "    let position = 0;\n",
              "    do {\n",
              "      const length = Math.min(fileData.byteLength - position, MAX_PAYLOAD_SIZE);\n",
              "      const chunk = new Uint8Array(fileData, position, length);\n",
              "      position += length;\n",
              "\n",
              "      const base64 = btoa(String.fromCharCode.apply(null, chunk));\n",
              "      yield {\n",
              "        response: {\n",
              "          action: 'append',\n",
              "          file: file.name,\n",
              "          data: base64,\n",
              "        },\n",
              "      };\n",
              "\n",
              "      let percentDone = fileData.byteLength === 0 ?\n",
              "          100 :\n",
              "          Math.round((position / fileData.byteLength) * 100);\n",
              "      percent.textContent = `${percentDone}% done`;\n",
              "\n",
              "    } while (position < fileData.byteLength);\n",
              "  }\n",
              "\n",
              "  // All done.\n",
              "  yield {\n",
              "    response: {\n",
              "      action: 'complete',\n",
              "    }\n",
              "  };\n",
              "}\n",
              "\n",
              "scope.google = scope.google || {};\n",
              "scope.google.colab = scope.google.colab || {};\n",
              "scope.google.colab._files = {\n",
              "  _uploadFiles,\n",
              "  _uploadFilesContinue,\n",
              "};\n",
              "})(self);\n",
              "</script> "
            ],
            "text/plain": [
              "<IPython.core.display.HTML object>"
            ]
          },
          "metadata": {},
          "output_type": "display_data"
        },
        {
          "name": "stdout",
          "output_type": "stream",
          "text": [
            "Saving Copie de Base de données - SNI (002).xlsx to Copie de Base de données - SNI (002).xlsx\n"
          ]
        }
      ],
      "source": [
        "from google.colab import files\n",
        "uploaded = files.upload()\n"
      ]
    },
    {
      "cell_type": "markdown",
      "metadata": {
        "id": "JyH-GqVK_jVF"
      },
      "source": [
        "**Importation des bibliothèque**"
      ]
    },
    {
      "cell_type": "code",
      "execution_count": null,
      "metadata": {
        "id": "IdyJmhFXAE48"
      },
      "outputs": [],
      "source": [
        "# Importation des bibliothèques nécessaires\n",
        "import numpy as np\n",
        "import pandas as pd\n",
        "import matplotlib.pyplot as plt\n",
        "import seaborn as sns\n",
        "from scipy.stats import pearsonr, f_oneway, chi2_contingency\n",
        "\n",
        "# Importation des modules de scikit-learn\n",
        "from sklearn.preprocessing import LabelEncoder, StandardScaler\n",
        "from sklearn.model_selection import train_test_split\n",
        "from sklearn.linear_model import LogisticRegression\n",
        "from sklearn.ensemble import RandomForestClassifier\n",
        "from sklearn.metrics import accuracy_score, classification_report, confusion_matrix, roc_auc_score\n"
      ]
    },
    {
      "cell_type": "markdown",
      "metadata": {
        "id": "nVdNZo3JA1Km"
      },
      "source": [
        "**Chargement et aperçu  de notre Dataset qui est un fichier Excel avec pandas**"
      ]
    },
    {
      "cell_type": "code",
      "execution_count": null,
      "metadata": {
        "colab": {
          "base_uri": "https://localhost:8080/"
        },
        "id": "aass6AbW1ei1",
        "outputId": "418d13f1-b7b9-4926-fa48-0bb2ce6b4728"
      },
      "outputs": [
        {
          "name": "stdout",
          "output_type": "stream",
          "text": [
            "        numtiers  Annee      NUMTIERS_ANNEE  defaut DATE_DE_CREATION_TIERS  \\\n",
            "0  5200000007513   2015  5200000007513_2015       0             2008-01-02   \n",
            "1  5200000007513   2016  5200000007513_2016       0             2008-01-02   \n",
            "2  5200000007934   2015  5200000007934_2015       0             1988-05-31   \n",
            "3  5200000007934   2017  5200000007934_2017       0             1988-05-31   \n",
            "4  5200000008051   2015  5200000008051_2015       0             1998-10-02   \n",
            "\n",
            "  DATE_DE_CREATION_ENTREP  CHIFFRE_AFFAIRES  EXCEDENT_BRUT_EXPLOITATION  \\\n",
            "0              1982-01-05       236073240.2                  8258201.71   \n",
            "1              1982-01-05       258386615.0                  4107268.85   \n",
            "2              1953-08-05       202426475.2                  5028464.60   \n",
            "3              1953-08-05       210917616.4                 13076487.89   \n",
            "4              1995-05-22       171987524.1                 16142629.85   \n",
            "\n",
            "   RESULTAT_EXPlOITATION  RESULTAT_NET  ...  \\\n",
            "0             7120503.00  -14040379.78  ...   \n",
            "1             2031311.93    2312466.82  ...   \n",
            "2             3602225.77    -413273.04  ...   \n",
            "3            12514233.63    7501946.85  ...   \n",
            "4            12544851.82    1401029.14  ...   \n",
            "\n",
            "                                NIVEAU_COMPETITIVITE  \\\n",
            "0           Quelques competiteurs majeurs identifies   \n",
            "1                             Tres forte concurrence   \n",
            "2            Absence de concurrence (quasi monopole)   \n",
            "3  Forte presence de produits similaires et compe...   \n",
            "4           Quelques competiteurs majeurs identifies   \n",
            "\n",
            "                      QUALITE_INFORMATION_FINANCIERE  REPUTATION  \\\n",
            "0  Etats comptables et financiers audites par un ...       Bonne   \n",
            "1  Etats comptables et financiers audites par un ...  Tres bonne   \n",
            "2  Etats comptables et financiers audites par un ...  Tres bonne   \n",
            "3  Etats comptables et financiers audites par un ...  Tres bonne   \n",
            "4  Etats comptables et financiers audites par un ...  Tres bonne   \n",
            "\n",
            "   STRUCTUREDUMANAGEMENT                        SUPPORT  \\\n",
            "0         Bien structure  Support conforme aux attentes   \n",
            "1         Bien structure  Support conforme aux attentes   \n",
            "2         Bien structure  Support conforme aux attentes   \n",
            "3         Bien structure  Support conforme aux attentes   \n",
            "4         Bien structure  Support conforme aux attentes   \n",
            "\n",
            "                       POSITIONNEMENTMARCHE  Categorie_juridique  \\\n",
            "0  Acteur majeur + de 20% de part de marche                   SA   \n",
            "1  Acteur majeur + de 20% de part de marche                   SA   \n",
            "2                                    Leader                   SA   \n",
            "3  Acteur majeur + de 20% de part de marche                   SA   \n",
            "4                   Acteur non significatif                   SA   \n",
            "\n",
            "   Cote en bourse  Appartenance a un groupe  \\\n",
            "0               0                         0   \n",
            "1               0                         0   \n",
            "2               0                         1   \n",
            "3               0                         1   \n",
            "4               0                         1   \n",
            "\n",
            "                                            Secteurs  \n",
            "0                         Transport et Communication  \n",
            "1                         Transport et Communication  \n",
            "2            Industries agroalimentaires et du tabac  \n",
            "3            Industries agroalimentaires et du tabac  \n",
            "4  Commerce, reparations automobiles et d'article...  \n",
            "\n",
            "[5 rows x 40 columns]\n"
          ]
        }
      ],
      "source": [
        "import pandas as pd\n",
        "\n",
        "# Replace 'filename.xlsx' with the name of your uploaded file\n",
        "df = pd.read_excel('Copie de Base de données - SNI (002).xlsx')\n",
        "\n",
        "# Display the first few rows of the dataset\n",
        "print(df.head())\n"
      ]
    },
    {
      "cell_type": "markdown",
      "metadata": {
        "id": "ZRYwNj6nBI0t"
      },
      "source": [
        "**Exploration de la structure du DataFrame : aperçu des colonnes, types de données, et valeurs manquantes**"
      ]
    },
    {
      "cell_type": "code",
      "execution_count": null,
      "metadata": {
        "colab": {
          "base_uri": "https://localhost:8080/"
        },
        "id": "XpyDwV1DKLEe",
        "outputId": "38b917fc-ce7b-4368-f0e9-37bbd45d92ba"
      },
      "outputs": [
        {
          "name": "stdout",
          "output_type": "stream",
          "text": [
            "<class 'pandas.core.frame.DataFrame'>\n",
            "RangeIndex: 1521 entries, 0 to 1520\n",
            "Data columns (total 40 columns):\n",
            " #   Column                                   Non-Null Count  Dtype         \n",
            "---  ------                                   --------------  -----         \n",
            " 0   numtiers                                 1521 non-null   int64         \n",
            " 1   Annee                                    1521 non-null   int64         \n",
            " 2   NUMTIERS_ANNEE                           1521 non-null   object        \n",
            " 3   defaut                                   1521 non-null   int64         \n",
            " 4   DATE_DE_CREATION_TIERS                   1521 non-null   datetime64[ns]\n",
            " 5   DATE_DE_CREATION_ENTREP                  1521 non-null   datetime64[ns]\n",
            " 6   CHIFFRE_AFFAIRES                         1521 non-null   float64       \n",
            " 7   EXCEDENT_BRUT_EXPLOITATION               1521 non-null   float64       \n",
            " 8   RESULTAT_EXPlOITATION                    1521 non-null   float64       \n",
            " 9   RESULTAT_NET                             1521 non-null   float64       \n",
            " 10  FINANCEMENT_PERMANENT                    1521 non-null   float64       \n",
            " 11  FONDS_DE_ROULEMENT                       1521 non-null   float64       \n",
            " 12  BESOIN_FONDS_ROULEMENT                   1521 non-null   float64       \n",
            " 13  CAPITAUX_PROPRES                         1521 non-null   float64       \n",
            " 14  TRESORIE_NETTE                           1521 non-null   float64       \n",
            " 15  TOTAL_BILAN                              1521 non-null   float64       \n",
            " 16  DETTE_FINANCIERE                         1521 non-null   float64       \n",
            " 17  ACTIF_CIRCULANT                          1521 non-null   float64       \n",
            " 18  PASSIF_CIRCULANT                         1521 non-null   float64       \n",
            " 19  TOTAL_ACTIF                              1521 non-null   float64       \n",
            " 20  TOTAL_PASSIF                             1521 non-null   float64       \n",
            " 21  DELAI_REGLEMENT_CLIENTS                  1521 non-null   float64       \n",
            " 22  DELAI_REGLEMENT_FOURNISSEURS             1521 non-null   float64       \n",
            " 23  AUTO_FINANCEMENT                         1521 non-null   float64       \n",
            " 24  FRAIS_FINANCIERS                         1521 non-null   float64       \n",
            " 25  STOCK                                    1521 non-null   float64       \n",
            " 26  EXPERIENCE_MANAGEMENT_MOYENNE_DIRIGEANT  1521 non-null   object        \n",
            " 27  DIVERSITE_CLIENTS                        1521 non-null   object        \n",
            " 28  DIVERSITE_FOURNISSEURS                   1521 non-null   object        \n",
            " 29  IMPACT_SOCIAUX_ENVIRONNEMENTAL           1521 non-null   object        \n",
            " 30  NIVEAU_COMPETITIVITE                     1521 non-null   object        \n",
            " 31  QUALITE_INFORMATION_FINANCIERE           1521 non-null   object        \n",
            " 32  REPUTATION                               1521 non-null   object        \n",
            " 33  STRUCTUREDUMANAGEMENT                    1521 non-null   object        \n",
            " 34  SUPPORT                                  1521 non-null   object        \n",
            " 35  POSITIONNEMENTMARCHE                     1521 non-null   object        \n",
            " 36  Categorie_juridique                      1521 non-null   object        \n",
            " 37  Cote en bourse                           1521 non-null   int64         \n",
            " 38  Appartenance a un groupe                 1521 non-null   int64         \n",
            " 39  Secteurs                                 1521 non-null   object        \n",
            "dtypes: datetime64[ns](2), float64(20), int64(5), object(13)\n",
            "memory usage: 475.4+ KB\n"
          ]
        }
      ],
      "source": [
        "df.info()"
      ]
    },
    {
      "cell_type": "markdown",
      "metadata": {
        "id": "WUZuuSQYBNFF"
      },
      "source": [
        "**Visulaisation de notre DataFrame**"
      ]
    },
    {
      "cell_type": "code",
      "execution_count": null,
      "metadata": {
        "colab": {
          "base_uri": "https://localhost:8080/",
          "height": 999
        },
        "id": "gd1UZjUa2D7c",
        "outputId": "d2bf1ba0-70c6-44eb-ab66-1b7b91c30ea5"
      },
      "outputs": [
        {
          "data": {
            "application/vnd.google.colaboratory.intrinsic+json": {
              "type": "dataframe",
              "variable_name": "df"
            },
            "text/html": [
              "\n",
              "  <div id=\"df-a893be49-c3bc-4bfe-9724-0084e55b26aa\" class=\"colab-df-container\">\n",
              "    <div>\n",
              "<style scoped>\n",
              "    .dataframe tbody tr th:only-of-type {\n",
              "        vertical-align: middle;\n",
              "    }\n",
              "\n",
              "    .dataframe tbody tr th {\n",
              "        vertical-align: top;\n",
              "    }\n",
              "\n",
              "    .dataframe thead th {\n",
              "        text-align: right;\n",
              "    }\n",
              "</style>\n",
              "<table border=\"1\" class=\"dataframe\">\n",
              "  <thead>\n",
              "    <tr style=\"text-align: right;\">\n",
              "      <th></th>\n",
              "      <th>numtiers</th>\n",
              "      <th>Annee</th>\n",
              "      <th>NUMTIERS_ANNEE</th>\n",
              "      <th>defaut</th>\n",
              "      <th>DATE_DE_CREATION_TIERS</th>\n",
              "      <th>DATE_DE_CREATION_ENTREP</th>\n",
              "      <th>CHIFFRE_AFFAIRES</th>\n",
              "      <th>EXCEDENT_BRUT_EXPLOITATION</th>\n",
              "      <th>RESULTAT_EXPlOITATION</th>\n",
              "      <th>RESULTAT_NET</th>\n",
              "      <th>...</th>\n",
              "      <th>NIVEAU_COMPETITIVITE</th>\n",
              "      <th>QUALITE_INFORMATION_FINANCIERE</th>\n",
              "      <th>REPUTATION</th>\n",
              "      <th>STRUCTUREDUMANAGEMENT</th>\n",
              "      <th>SUPPORT</th>\n",
              "      <th>POSITIONNEMENTMARCHE</th>\n",
              "      <th>Categorie_juridique</th>\n",
              "      <th>Cote en bourse</th>\n",
              "      <th>Appartenance a un groupe</th>\n",
              "      <th>Secteurs</th>\n",
              "    </tr>\n",
              "  </thead>\n",
              "  <tbody>\n",
              "    <tr>\n",
              "      <th>0</th>\n",
              "      <td>5200000007513</td>\n",
              "      <td>2015</td>\n",
              "      <td>5200000007513_2015</td>\n",
              "      <td>0</td>\n",
              "      <td>2008-01-02</td>\n",
              "      <td>1982-01-05</td>\n",
              "      <td>2.360732e+08</td>\n",
              "      <td>8.258202e+06</td>\n",
              "      <td>7.120503e+06</td>\n",
              "      <td>-1.404038e+07</td>\n",
              "      <td>...</td>\n",
              "      <td>Quelques competiteurs majeurs identifies</td>\n",
              "      <td>Etats comptables et financiers audites par un ...</td>\n",
              "      <td>Bonne</td>\n",
              "      <td>Bien structure</td>\n",
              "      <td>Support conforme aux attentes</td>\n",
              "      <td>Acteur majeur + de 20% de part de marche</td>\n",
              "      <td>SA</td>\n",
              "      <td>0</td>\n",
              "      <td>0</td>\n",
              "      <td>Transport et Communication</td>\n",
              "    </tr>\n",
              "    <tr>\n",
              "      <th>1</th>\n",
              "      <td>5200000007513</td>\n",
              "      <td>2016</td>\n",
              "      <td>5200000007513_2016</td>\n",
              "      <td>0</td>\n",
              "      <td>2008-01-02</td>\n",
              "      <td>1982-01-05</td>\n",
              "      <td>2.583866e+08</td>\n",
              "      <td>4.107269e+06</td>\n",
              "      <td>2.031312e+06</td>\n",
              "      <td>2.312467e+06</td>\n",
              "      <td>...</td>\n",
              "      <td>Tres forte concurrence</td>\n",
              "      <td>Etats comptables et financiers audites par un ...</td>\n",
              "      <td>Tres bonne</td>\n",
              "      <td>Bien structure</td>\n",
              "      <td>Support conforme aux attentes</td>\n",
              "      <td>Acteur majeur + de 20% de part de marche</td>\n",
              "      <td>SA</td>\n",
              "      <td>0</td>\n",
              "      <td>0</td>\n",
              "      <td>Transport et Communication</td>\n",
              "    </tr>\n",
              "    <tr>\n",
              "      <th>2</th>\n",
              "      <td>5200000007934</td>\n",
              "      <td>2015</td>\n",
              "      <td>5200000007934_2015</td>\n",
              "      <td>0</td>\n",
              "      <td>1988-05-31</td>\n",
              "      <td>1953-08-05</td>\n",
              "      <td>2.024265e+08</td>\n",
              "      <td>5.028465e+06</td>\n",
              "      <td>3.602226e+06</td>\n",
              "      <td>-4.132730e+05</td>\n",
              "      <td>...</td>\n",
              "      <td>Absence de concurrence (quasi monopole)</td>\n",
              "      <td>Etats comptables et financiers audites par un ...</td>\n",
              "      <td>Tres bonne</td>\n",
              "      <td>Bien structure</td>\n",
              "      <td>Support conforme aux attentes</td>\n",
              "      <td>Leader</td>\n",
              "      <td>SA</td>\n",
              "      <td>0</td>\n",
              "      <td>1</td>\n",
              "      <td>Industries agroalimentaires et du tabac</td>\n",
              "    </tr>\n",
              "    <tr>\n",
              "      <th>3</th>\n",
              "      <td>5200000007934</td>\n",
              "      <td>2017</td>\n",
              "      <td>5200000007934_2017</td>\n",
              "      <td>0</td>\n",
              "      <td>1988-05-31</td>\n",
              "      <td>1953-08-05</td>\n",
              "      <td>2.109176e+08</td>\n",
              "      <td>1.307649e+07</td>\n",
              "      <td>1.251423e+07</td>\n",
              "      <td>7.501947e+06</td>\n",
              "      <td>...</td>\n",
              "      <td>Forte presence de produits similaires et compe...</td>\n",
              "      <td>Etats comptables et financiers audites par un ...</td>\n",
              "      <td>Tres bonne</td>\n",
              "      <td>Bien structure</td>\n",
              "      <td>Support conforme aux attentes</td>\n",
              "      <td>Acteur majeur + de 20% de part de marche</td>\n",
              "      <td>SA</td>\n",
              "      <td>0</td>\n",
              "      <td>1</td>\n",
              "      <td>Industries agroalimentaires et du tabac</td>\n",
              "    </tr>\n",
              "    <tr>\n",
              "      <th>4</th>\n",
              "      <td>5200000008051</td>\n",
              "      <td>2015</td>\n",
              "      <td>5200000008051_2015</td>\n",
              "      <td>0</td>\n",
              "      <td>1998-10-02</td>\n",
              "      <td>1995-05-22</td>\n",
              "      <td>1.719875e+08</td>\n",
              "      <td>1.614263e+07</td>\n",
              "      <td>1.254485e+07</td>\n",
              "      <td>1.401029e+06</td>\n",
              "      <td>...</td>\n",
              "      <td>Quelques competiteurs majeurs identifies</td>\n",
              "      <td>Etats comptables et financiers audites par un ...</td>\n",
              "      <td>Tres bonne</td>\n",
              "      <td>Bien structure</td>\n",
              "      <td>Support conforme aux attentes</td>\n",
              "      <td>Acteur non significatif</td>\n",
              "      <td>SA</td>\n",
              "      <td>0</td>\n",
              "      <td>1</td>\n",
              "      <td>Commerce, reparations automobiles et d'article...</td>\n",
              "    </tr>\n",
              "    <tr>\n",
              "      <th>...</th>\n",
              "      <td>...</td>\n",
              "      <td>...</td>\n",
              "      <td>...</td>\n",
              "      <td>...</td>\n",
              "      <td>...</td>\n",
              "      <td>...</td>\n",
              "      <td>...</td>\n",
              "      <td>...</td>\n",
              "      <td>...</td>\n",
              "      <td>...</td>\n",
              "      <td>...</td>\n",
              "      <td>...</td>\n",
              "      <td>...</td>\n",
              "      <td>...</td>\n",
              "      <td>...</td>\n",
              "      <td>...</td>\n",
              "      <td>...</td>\n",
              "      <td>...</td>\n",
              "      <td>...</td>\n",
              "      <td>...</td>\n",
              "      <td>...</td>\n",
              "    </tr>\n",
              "    <tr>\n",
              "      <th>1516</th>\n",
              "      <td>5200008692041</td>\n",
              "      <td>2019</td>\n",
              "      <td>5200008692041_2019</td>\n",
              "      <td>0</td>\n",
              "      <td>2016-02-25</td>\n",
              "      <td>2012-11-28</td>\n",
              "      <td>2.126070e+08</td>\n",
              "      <td>3.447732e+06</td>\n",
              "      <td>3.064909e+06</td>\n",
              "      <td>5.818412e+05</td>\n",
              "      <td>...</td>\n",
              "      <td>Quelques competiteurs majeurs identifies</td>\n",
              "      <td>Etats comptables et financiers coherents mais ...</td>\n",
              "      <td>Tres bonne</td>\n",
              "      <td>Bien structure</td>\n",
              "      <td>Support conforme aux attentes</td>\n",
              "      <td>Acteur majeur + de 20% de part de marche</td>\n",
              "      <td>SA</td>\n",
              "      <td>0</td>\n",
              "      <td>0</td>\n",
              "      <td>Autres sections</td>\n",
              "    </tr>\n",
              "    <tr>\n",
              "      <th>1517</th>\n",
              "      <td>5200008791992</td>\n",
              "      <td>2016</td>\n",
              "      <td>5200008791992_2016</td>\n",
              "      <td>0</td>\n",
              "      <td>2015-09-14</td>\n",
              "      <td>2015-08-25</td>\n",
              "      <td>1.899246e+08</td>\n",
              "      <td>1.155362e+06</td>\n",
              "      <td>1.154164e+06</td>\n",
              "      <td>4.472306e+05</td>\n",
              "      <td>...</td>\n",
              "      <td>Absence de concurrence (quasi monopole)</td>\n",
              "      <td>Etats comptables et financiers audites par un ...</td>\n",
              "      <td>Tres bonne</td>\n",
              "      <td>Bien structure</td>\n",
              "      <td>Lettre de confort de la maison mere</td>\n",
              "      <td>Leader</td>\n",
              "      <td>SARL</td>\n",
              "      <td>0</td>\n",
              "      <td>0</td>\n",
              "      <td>Commerce, reparations automobiles et d'article...</td>\n",
              "    </tr>\n",
              "    <tr>\n",
              "      <th>1518</th>\n",
              "      <td>5200007684315</td>\n",
              "      <td>2018</td>\n",
              "      <td>5200007684315_2018</td>\n",
              "      <td>1</td>\n",
              "      <td>2013-01-09</td>\n",
              "      <td>2013-02-28</td>\n",
              "      <td>2.878672e+09</td>\n",
              "      <td>1.283697e+09</td>\n",
              "      <td>9.366426e+08</td>\n",
              "      <td>5.850665e+08</td>\n",
              "      <td>...</td>\n",
              "      <td>Très forte concurrence</td>\n",
              "      <td>Etats comptables et financiers audites par un ...</td>\n",
              "      <td>Bonne</td>\n",
              "      <td>Bien structure</td>\n",
              "      <td>Support conforme aux attentes</td>\n",
              "      <td>Acteur majeur + de 20% de part de marche</td>\n",
              "      <td>SA</td>\n",
              "      <td>0</td>\n",
              "      <td>1</td>\n",
              "      <td>Industries manufacturières diverses</td>\n",
              "    </tr>\n",
              "    <tr>\n",
              "      <th>1519</th>\n",
              "      <td>5200007955060</td>\n",
              "      <td>2019</td>\n",
              "      <td>5200007955060_2019</td>\n",
              "      <td>1</td>\n",
              "      <td>2013-10-09</td>\n",
              "      <td>2006-08-31</td>\n",
              "      <td>4.843269e+08</td>\n",
              "      <td>3.825166e+07</td>\n",
              "      <td>1.351372e+07</td>\n",
              "      <td>-5.124705e+06</td>\n",
              "      <td>...</td>\n",
              "      <td>Quelques competiteurs majeurs identifies</td>\n",
              "      <td>Etats comptables et financiers audites par un ...</td>\n",
              "      <td>Très bonne</td>\n",
              "      <td>Bien structure</td>\n",
              "      <td>Support conforme aux attentes</td>\n",
              "      <td>Acteur majeur + de 20% de part de marche</td>\n",
              "      <td>SARL</td>\n",
              "      <td>0</td>\n",
              "      <td>0</td>\n",
              "      <td>Industries metallurgiques, mecaniques, electri...</td>\n",
              "    </tr>\n",
              "    <tr>\n",
              "      <th>1520</th>\n",
              "      <td>5200008030705</td>\n",
              "      <td>2015</td>\n",
              "      <td>5200008030705_2015</td>\n",
              "      <td>1</td>\n",
              "      <td>2013-12-30</td>\n",
              "      <td>1990-12-21</td>\n",
              "      <td>3.247440e+08</td>\n",
              "      <td>1.945273e+07</td>\n",
              "      <td>8.007130e+06</td>\n",
              "      <td>2.445125e+06</td>\n",
              "      <td>...</td>\n",
              "      <td>Forte presence de produits similaires et compe...</td>\n",
              "      <td>Etats comptables et financiers audites par un ...</td>\n",
              "      <td>Bonne</td>\n",
              "      <td>Bien structure</td>\n",
              "      <td>Modalite vide</td>\n",
              "      <td>Acteur majeur + de 20% de part de marche</td>\n",
              "      <td>SARL</td>\n",
              "      <td>0</td>\n",
              "      <td>0</td>\n",
              "      <td>Autres sections</td>\n",
              "    </tr>\n",
              "  </tbody>\n",
              "</table>\n",
              "<p>1521 rows × 40 columns</p>\n",
              "</div>\n",
              "    <div class=\"colab-df-buttons\">\n",
              "\n",
              "  <div class=\"colab-df-container\">\n",
              "    <button class=\"colab-df-convert\" onclick=\"convertToInteractive('df-a893be49-c3bc-4bfe-9724-0084e55b26aa')\"\n",
              "            title=\"Convert this dataframe to an interactive table.\"\n",
              "            style=\"display:none;\">\n",
              "\n",
              "  <svg xmlns=\"http://www.w3.org/2000/svg\" height=\"24px\" viewBox=\"0 -960 960 960\">\n",
              "    <path d=\"M120-120v-720h720v720H120Zm60-500h600v-160H180v160Zm220 220h160v-160H400v160Zm0 220h160v-160H400v160ZM180-400h160v-160H180v160Zm440 0h160v-160H620v160ZM180-180h160v-160H180v160Zm440 0h160v-160H620v160Z\"/>\n",
              "  </svg>\n",
              "    </button>\n",
              "\n",
              "  <style>\n",
              "    .colab-df-container {\n",
              "      display:flex;\n",
              "      gap: 12px;\n",
              "    }\n",
              "\n",
              "    .colab-df-convert {\n",
              "      background-color: #E8F0FE;\n",
              "      border: none;\n",
              "      border-radius: 50%;\n",
              "      cursor: pointer;\n",
              "      display: none;\n",
              "      fill: #1967D2;\n",
              "      height: 32px;\n",
              "      padding: 0 0 0 0;\n",
              "      width: 32px;\n",
              "    }\n",
              "\n",
              "    .colab-df-convert:hover {\n",
              "      background-color: #E2EBFA;\n",
              "      box-shadow: 0px 1px 2px rgba(60, 64, 67, 0.3), 0px 1px 3px 1px rgba(60, 64, 67, 0.15);\n",
              "      fill: #174EA6;\n",
              "    }\n",
              "\n",
              "    .colab-df-buttons div {\n",
              "      margin-bottom: 4px;\n",
              "    }\n",
              "\n",
              "    [theme=dark] .colab-df-convert {\n",
              "      background-color: #3B4455;\n",
              "      fill: #D2E3FC;\n",
              "    }\n",
              "\n",
              "    [theme=dark] .colab-df-convert:hover {\n",
              "      background-color: #434B5C;\n",
              "      box-shadow: 0px 1px 3px 1px rgba(0, 0, 0, 0.15);\n",
              "      filter: drop-shadow(0px 1px 2px rgba(0, 0, 0, 0.3));\n",
              "      fill: #FFFFFF;\n",
              "    }\n",
              "  </style>\n",
              "\n",
              "    <script>\n",
              "      const buttonEl =\n",
              "        document.querySelector('#df-a893be49-c3bc-4bfe-9724-0084e55b26aa button.colab-df-convert');\n",
              "      buttonEl.style.display =\n",
              "        google.colab.kernel.accessAllowed ? 'block' : 'none';\n",
              "\n",
              "      async function convertToInteractive(key) {\n",
              "        const element = document.querySelector('#df-a893be49-c3bc-4bfe-9724-0084e55b26aa');\n",
              "        const dataTable =\n",
              "          await google.colab.kernel.invokeFunction('convertToInteractive',\n",
              "                                                    [key], {});\n",
              "        if (!dataTable) return;\n",
              "\n",
              "        const docLinkHtml = 'Like what you see? Visit the ' +\n",
              "          '<a target=\"_blank\" href=https://colab.research.google.com/notebooks/data_table.ipynb>data table notebook</a>'\n",
              "          + ' to learn more about interactive tables.';\n",
              "        element.innerHTML = '';\n",
              "        dataTable['output_type'] = 'display_data';\n",
              "        await google.colab.output.renderOutput(dataTable, element);\n",
              "        const docLink = document.createElement('div');\n",
              "        docLink.innerHTML = docLinkHtml;\n",
              "        element.appendChild(docLink);\n",
              "      }\n",
              "    </script>\n",
              "  </div>\n",
              "\n",
              "\n",
              "<div id=\"df-3d8f1b44-e71d-4bd4-acc5-3556e81bb69b\">\n",
              "  <button class=\"colab-df-quickchart\" onclick=\"quickchart('df-3d8f1b44-e71d-4bd4-acc5-3556e81bb69b')\"\n",
              "            title=\"Suggest charts\"\n",
              "            style=\"display:none;\">\n",
              "\n",
              "<svg xmlns=\"http://www.w3.org/2000/svg\" height=\"24px\"viewBox=\"0 0 24 24\"\n",
              "     width=\"24px\">\n",
              "    <g>\n",
              "        <path d=\"M19 3H5c-1.1 0-2 .9-2 2v14c0 1.1.9 2 2 2h14c1.1 0 2-.9 2-2V5c0-1.1-.9-2-2-2zM9 17H7v-7h2v7zm4 0h-2V7h2v10zm4 0h-2v-4h2v4z\"/>\n",
              "    </g>\n",
              "</svg>\n",
              "  </button>\n",
              "\n",
              "<style>\n",
              "  .colab-df-quickchart {\n",
              "      --bg-color: #E8F0FE;\n",
              "      --fill-color: #1967D2;\n",
              "      --hover-bg-color: #E2EBFA;\n",
              "      --hover-fill-color: #174EA6;\n",
              "      --disabled-fill-color: #AAA;\n",
              "      --disabled-bg-color: #DDD;\n",
              "  }\n",
              "\n",
              "  [theme=dark] .colab-df-quickchart {\n",
              "      --bg-color: #3B4455;\n",
              "      --fill-color: #D2E3FC;\n",
              "      --hover-bg-color: #434B5C;\n",
              "      --hover-fill-color: #FFFFFF;\n",
              "      --disabled-bg-color: #3B4455;\n",
              "      --disabled-fill-color: #666;\n",
              "  }\n",
              "\n",
              "  .colab-df-quickchart {\n",
              "    background-color: var(--bg-color);\n",
              "    border: none;\n",
              "    border-radius: 50%;\n",
              "    cursor: pointer;\n",
              "    display: none;\n",
              "    fill: var(--fill-color);\n",
              "    height: 32px;\n",
              "    padding: 0;\n",
              "    width: 32px;\n",
              "  }\n",
              "\n",
              "  .colab-df-quickchart:hover {\n",
              "    background-color: var(--hover-bg-color);\n",
              "    box-shadow: 0 1px 2px rgba(60, 64, 67, 0.3), 0 1px 3px 1px rgba(60, 64, 67, 0.15);\n",
              "    fill: var(--button-hover-fill-color);\n",
              "  }\n",
              "\n",
              "  .colab-df-quickchart-complete:disabled,\n",
              "  .colab-df-quickchart-complete:disabled:hover {\n",
              "    background-color: var(--disabled-bg-color);\n",
              "    fill: var(--disabled-fill-color);\n",
              "    box-shadow: none;\n",
              "  }\n",
              "\n",
              "  .colab-df-spinner {\n",
              "    border: 2px solid var(--fill-color);\n",
              "    border-color: transparent;\n",
              "    border-bottom-color: var(--fill-color);\n",
              "    animation:\n",
              "      spin 1s steps(1) infinite;\n",
              "  }\n",
              "\n",
              "  @keyframes spin {\n",
              "    0% {\n",
              "      border-color: transparent;\n",
              "      border-bottom-color: var(--fill-color);\n",
              "      border-left-color: var(--fill-color);\n",
              "    }\n",
              "    20% {\n",
              "      border-color: transparent;\n",
              "      border-left-color: var(--fill-color);\n",
              "      border-top-color: var(--fill-color);\n",
              "    }\n",
              "    30% {\n",
              "      border-color: transparent;\n",
              "      border-left-color: var(--fill-color);\n",
              "      border-top-color: var(--fill-color);\n",
              "      border-right-color: var(--fill-color);\n",
              "    }\n",
              "    40% {\n",
              "      border-color: transparent;\n",
              "      border-right-color: var(--fill-color);\n",
              "      border-top-color: var(--fill-color);\n",
              "    }\n",
              "    60% {\n",
              "      border-color: transparent;\n",
              "      border-right-color: var(--fill-color);\n",
              "    }\n",
              "    80% {\n",
              "      border-color: transparent;\n",
              "      border-right-color: var(--fill-color);\n",
              "      border-bottom-color: var(--fill-color);\n",
              "    }\n",
              "    90% {\n",
              "      border-color: transparent;\n",
              "      border-bottom-color: var(--fill-color);\n",
              "    }\n",
              "  }\n",
              "</style>\n",
              "\n",
              "  <script>\n",
              "    async function quickchart(key) {\n",
              "      const quickchartButtonEl =\n",
              "        document.querySelector('#' + key + ' button');\n",
              "      quickchartButtonEl.disabled = true;  // To prevent multiple clicks.\n",
              "      quickchartButtonEl.classList.add('colab-df-spinner');\n",
              "      try {\n",
              "        const charts = await google.colab.kernel.invokeFunction(\n",
              "            'suggestCharts', [key], {});\n",
              "      } catch (error) {\n",
              "        console.error('Error during call to suggestCharts:', error);\n",
              "      }\n",
              "      quickchartButtonEl.classList.remove('colab-df-spinner');\n",
              "      quickchartButtonEl.classList.add('colab-df-quickchart-complete');\n",
              "    }\n",
              "    (() => {\n",
              "      let quickchartButtonEl =\n",
              "        document.querySelector('#df-3d8f1b44-e71d-4bd4-acc5-3556e81bb69b button');\n",
              "      quickchartButtonEl.style.display =\n",
              "        google.colab.kernel.accessAllowed ? 'block' : 'none';\n",
              "    })();\n",
              "  </script>\n",
              "</div>\n",
              "\n",
              "  <div id=\"id_0e86733b-57a3-4423-a668-f95d5afef42b\">\n",
              "    <style>\n",
              "      .colab-df-generate {\n",
              "        background-color: #E8F0FE;\n",
              "        border: none;\n",
              "        border-radius: 50%;\n",
              "        cursor: pointer;\n",
              "        display: none;\n",
              "        fill: #1967D2;\n",
              "        height: 32px;\n",
              "        padding: 0 0 0 0;\n",
              "        width: 32px;\n",
              "      }\n",
              "\n",
              "      .colab-df-generate:hover {\n",
              "        background-color: #E2EBFA;\n",
              "        box-shadow: 0px 1px 2px rgba(60, 64, 67, 0.3), 0px 1px 3px 1px rgba(60, 64, 67, 0.15);\n",
              "        fill: #174EA6;\n",
              "      }\n",
              "\n",
              "      [theme=dark] .colab-df-generate {\n",
              "        background-color: #3B4455;\n",
              "        fill: #D2E3FC;\n",
              "      }\n",
              "\n",
              "      [theme=dark] .colab-df-generate:hover {\n",
              "        background-color: #434B5C;\n",
              "        box-shadow: 0px 1px 3px 1px rgba(0, 0, 0, 0.15);\n",
              "        filter: drop-shadow(0px 1px 2px rgba(0, 0, 0, 0.3));\n",
              "        fill: #FFFFFF;\n",
              "      }\n",
              "    </style>\n",
              "    <button class=\"colab-df-generate\" onclick=\"generateWithVariable('df')\"\n",
              "            title=\"Generate code using this dataframe.\"\n",
              "            style=\"display:none;\">\n",
              "\n",
              "  <svg xmlns=\"http://www.w3.org/2000/svg\" height=\"24px\"viewBox=\"0 0 24 24\"\n",
              "       width=\"24px\">\n",
              "    <path d=\"M7,19H8.4L18.45,9,17,7.55,7,17.6ZM5,21V16.75L18.45,3.32a2,2,0,0,1,2.83,0l1.4,1.43a1.91,1.91,0,0,1,.58,1.4,1.91,1.91,0,0,1-.58,1.4L9.25,21ZM18.45,9,17,7.55Zm-12,3A5.31,5.31,0,0,0,4.9,8.1,5.31,5.31,0,0,0,1,6.5,5.31,5.31,0,0,0,4.9,4.9,5.31,5.31,0,0,0,6.5,1,5.31,5.31,0,0,0,8.1,4.9,5.31,5.31,0,0,0,12,6.5,5.46,5.46,0,0,0,6.5,12Z\"/>\n",
              "  </svg>\n",
              "    </button>\n",
              "    <script>\n",
              "      (() => {\n",
              "      const buttonEl =\n",
              "        document.querySelector('#id_0e86733b-57a3-4423-a668-f95d5afef42b button.colab-df-generate');\n",
              "      buttonEl.style.display =\n",
              "        google.colab.kernel.accessAllowed ? 'block' : 'none';\n",
              "\n",
              "      buttonEl.onclick = () => {\n",
              "        google.colab.notebook.generateWithVariable('df');\n",
              "      }\n",
              "      })();\n",
              "    </script>\n",
              "  </div>\n",
              "\n",
              "    </div>\n",
              "  </div>\n"
            ],
            "text/plain": [
              "           numtiers  Annee      NUMTIERS_ANNEE  defaut DATE_DE_CREATION_TIERS  \\\n",
              "0     5200000007513   2015  5200000007513_2015       0             2008-01-02   \n",
              "1     5200000007513   2016  5200000007513_2016       0             2008-01-02   \n",
              "2     5200000007934   2015  5200000007934_2015       0             1988-05-31   \n",
              "3     5200000007934   2017  5200000007934_2017       0             1988-05-31   \n",
              "4     5200000008051   2015  5200000008051_2015       0             1998-10-02   \n",
              "...             ...    ...                 ...     ...                    ...   \n",
              "1516  5200008692041   2019  5200008692041_2019       0             2016-02-25   \n",
              "1517  5200008791992   2016  5200008791992_2016       0             2015-09-14   \n",
              "1518  5200007684315   2018  5200007684315_2018       1             2013-01-09   \n",
              "1519  5200007955060   2019  5200007955060_2019       1             2013-10-09   \n",
              "1520  5200008030705   2015  5200008030705_2015       1             2013-12-30   \n",
              "\n",
              "     DATE_DE_CREATION_ENTREP  CHIFFRE_AFFAIRES  EXCEDENT_BRUT_EXPLOITATION  \\\n",
              "0                 1982-01-05      2.360732e+08                8.258202e+06   \n",
              "1                 1982-01-05      2.583866e+08                4.107269e+06   \n",
              "2                 1953-08-05      2.024265e+08                5.028465e+06   \n",
              "3                 1953-08-05      2.109176e+08                1.307649e+07   \n",
              "4                 1995-05-22      1.719875e+08                1.614263e+07   \n",
              "...                      ...               ...                         ...   \n",
              "1516              2012-11-28      2.126070e+08                3.447732e+06   \n",
              "1517              2015-08-25      1.899246e+08                1.155362e+06   \n",
              "1518              2013-02-28      2.878672e+09                1.283697e+09   \n",
              "1519              2006-08-31      4.843269e+08                3.825166e+07   \n",
              "1520              1990-12-21      3.247440e+08                1.945273e+07   \n",
              "\n",
              "      RESULTAT_EXPlOITATION  RESULTAT_NET  ...  \\\n",
              "0              7.120503e+06 -1.404038e+07  ...   \n",
              "1              2.031312e+06  2.312467e+06  ...   \n",
              "2              3.602226e+06 -4.132730e+05  ...   \n",
              "3              1.251423e+07  7.501947e+06  ...   \n",
              "4              1.254485e+07  1.401029e+06  ...   \n",
              "...                     ...           ...  ...   \n",
              "1516           3.064909e+06  5.818412e+05  ...   \n",
              "1517           1.154164e+06  4.472306e+05  ...   \n",
              "1518           9.366426e+08  5.850665e+08  ...   \n",
              "1519           1.351372e+07 -5.124705e+06  ...   \n",
              "1520           8.007130e+06  2.445125e+06  ...   \n",
              "\n",
              "                                   NIVEAU_COMPETITIVITE  \\\n",
              "0              Quelques competiteurs majeurs identifies   \n",
              "1                                Tres forte concurrence   \n",
              "2               Absence de concurrence (quasi monopole)   \n",
              "3     Forte presence de produits similaires et compe...   \n",
              "4              Quelques competiteurs majeurs identifies   \n",
              "...                                                 ...   \n",
              "1516           Quelques competiteurs majeurs identifies   \n",
              "1517            Absence de concurrence (quasi monopole)   \n",
              "1518                             Très forte concurrence   \n",
              "1519           Quelques competiteurs majeurs identifies   \n",
              "1520  Forte presence de produits similaires et compe...   \n",
              "\n",
              "                         QUALITE_INFORMATION_FINANCIERE  REPUTATION  \\\n",
              "0     Etats comptables et financiers audites par un ...       Bonne   \n",
              "1     Etats comptables et financiers audites par un ...  Tres bonne   \n",
              "2     Etats comptables et financiers audites par un ...  Tres bonne   \n",
              "3     Etats comptables et financiers audites par un ...  Tres bonne   \n",
              "4     Etats comptables et financiers audites par un ...  Tres bonne   \n",
              "...                                                 ...         ...   \n",
              "1516  Etats comptables et financiers coherents mais ...  Tres bonne   \n",
              "1517  Etats comptables et financiers audites par un ...  Tres bonne   \n",
              "1518  Etats comptables et financiers audites par un ...       Bonne   \n",
              "1519  Etats comptables et financiers audites par un ...  Très bonne   \n",
              "1520  Etats comptables et financiers audites par un ...       Bonne   \n",
              "\n",
              "      STRUCTUREDUMANAGEMENT                              SUPPORT  \\\n",
              "0            Bien structure        Support conforme aux attentes   \n",
              "1            Bien structure        Support conforme aux attentes   \n",
              "2            Bien structure        Support conforme aux attentes   \n",
              "3            Bien structure        Support conforme aux attentes   \n",
              "4            Bien structure        Support conforme aux attentes   \n",
              "...                     ...                                  ...   \n",
              "1516         Bien structure        Support conforme aux attentes   \n",
              "1517         Bien structure  Lettre de confort de la maison mere   \n",
              "1518         Bien structure        Support conforme aux attentes   \n",
              "1519         Bien structure        Support conforme aux attentes   \n",
              "1520         Bien structure                        Modalite vide   \n",
              "\n",
              "                          POSITIONNEMENTMARCHE  Categorie_juridique  \\\n",
              "0     Acteur majeur + de 20% de part de marche                   SA   \n",
              "1     Acteur majeur + de 20% de part de marche                   SA   \n",
              "2                                       Leader                   SA   \n",
              "3     Acteur majeur + de 20% de part de marche                   SA   \n",
              "4                      Acteur non significatif                   SA   \n",
              "...                                        ...                  ...   \n",
              "1516  Acteur majeur + de 20% de part de marche                   SA   \n",
              "1517                                    Leader                 SARL   \n",
              "1518  Acteur majeur + de 20% de part de marche                   SA   \n",
              "1519  Acteur majeur + de 20% de part de marche                 SARL   \n",
              "1520  Acteur majeur + de 20% de part de marche                 SARL   \n",
              "\n",
              "      Cote en bourse  Appartenance a un groupe  \\\n",
              "0                  0                         0   \n",
              "1                  0                         0   \n",
              "2                  0                         1   \n",
              "3                  0                         1   \n",
              "4                  0                         1   \n",
              "...              ...                       ...   \n",
              "1516               0                         0   \n",
              "1517               0                         0   \n",
              "1518               0                         1   \n",
              "1519               0                         0   \n",
              "1520               0                         0   \n",
              "\n",
              "                                               Secteurs  \n",
              "0                            Transport et Communication  \n",
              "1                            Transport et Communication  \n",
              "2               Industries agroalimentaires et du tabac  \n",
              "3               Industries agroalimentaires et du tabac  \n",
              "4     Commerce, reparations automobiles et d'article...  \n",
              "...                                                 ...  \n",
              "1516                                    Autres sections  \n",
              "1517  Commerce, reparations automobiles et d'article...  \n",
              "1518                Industries manufacturières diverses  \n",
              "1519  Industries metallurgiques, mecaniques, electri...  \n",
              "1520                                    Autres sections  \n",
              "\n",
              "[1521 rows x 40 columns]"
            ]
          },
          "execution_count": 5,
          "metadata": {},
          "output_type": "execute_result"
        }
      ],
      "source": [
        "df"
      ]
    },
    {
      "cell_type": "markdown",
      "metadata": {
        "id": "ZS5SGNe7LWfl"
      },
      "source": [
        "**DATA PRE PROCESSING**"
      ]
    },
    {
      "cell_type": "code",
      "execution_count": null,
      "metadata": {
        "colab": {
          "base_uri": "https://localhost:8080/"
        },
        "id": "brxD5RfM2Lu4",
        "outputId": "90379240-a740-465d-e97d-c1a1a70ebc67"
      },
      "outputs": [
        {
          "data": {
            "text/plain": [
              "Index(['numtiers', 'Annee', 'NUMTIERS_ANNEE', 'defaut',\n",
              "       'DATE_DE_CREATION_TIERS', 'DATE_DE_CREATION_ENTREP', 'CHIFFRE_AFFAIRES',\n",
              "       'EXCEDENT_BRUT_EXPLOITATION', 'RESULTAT_EXPlOITATION', 'RESULTAT_NET',\n",
              "       'FINANCEMENT_PERMANENT', 'FONDS_DE_ROULEMENT', 'BESOIN_FONDS_ROULEMENT',\n",
              "       'CAPITAUX_PROPRES', 'TRESORIE_NETTE', 'TOTAL_BILAN', 'DETTE_FINANCIERE',\n",
              "       'ACTIF_CIRCULANT', 'PASSIF_CIRCULANT', 'TOTAL_ACTIF', 'TOTAL_PASSIF',\n",
              "       'DELAI_REGLEMENT_CLIENTS', 'DELAI_REGLEMENT_FOURNISSEURS',\n",
              "       'AUTO_FINANCEMENT', 'FRAIS_FINANCIERS', 'STOCK',\n",
              "       'EXPERIENCE_MANAGEMENT_MOYENNE_DIRIGEANT', 'DIVERSITE_CLIENTS',\n",
              "       'DIVERSITE_FOURNISSEURS', 'IMPACT_SOCIAUX_ENVIRONNEMENTAL',\n",
              "       'NIVEAU_COMPETITIVITE', 'QUALITE_INFORMATION_FINANCIERE', 'REPUTATION',\n",
              "       'STRUCTUREDUMANAGEMENT', 'SUPPORT', 'POSITIONNEMENTMARCHE',\n",
              "       'Categorie_juridique', 'Cote en bourse', 'Appartenance a un groupe',\n",
              "       'Secteurs'],\n",
              "      dtype='object')"
            ]
          },
          "execution_count": 6,
          "metadata": {},
          "output_type": "execute_result"
        }
      ],
      "source": [
        "df.columns"
      ]
    },
    {
      "cell_type": "code",
      "execution_count": null,
      "metadata": {
        "id": "IWgRxCToLc8W"
      },
      "outputs": [],
      "source": [
        "df.drop(columns=['NUMTIERS_ANNEE'], inplace=True)"
      ]
    },
    {
      "cell_type": "code",
      "execution_count": null,
      "metadata": {
        "colab": {
          "base_uri": "https://localhost:8080/",
          "height": 178
        },
        "id": "aoQG6mxyLm3d",
        "outputId": "521c0cff-9430-49a4-f209-96d5b2560857"
      },
      "outputs": [
        {
          "data": {
            "text/html": [
              "<div>\n",
              "<style scoped>\n",
              "    .dataframe tbody tr th:only-of-type {\n",
              "        vertical-align: middle;\n",
              "    }\n",
              "\n",
              "    .dataframe tbody tr th {\n",
              "        vertical-align: top;\n",
              "    }\n",
              "\n",
              "    .dataframe thead th {\n",
              "        text-align: right;\n",
              "    }\n",
              "</style>\n",
              "<table border=\"1\" class=\"dataframe\">\n",
              "  <thead>\n",
              "    <tr style=\"text-align: right;\">\n",
              "      <th></th>\n",
              "      <th>count</th>\n",
              "    </tr>\n",
              "    <tr>\n",
              "      <th>defaut</th>\n",
              "      <th></th>\n",
              "    </tr>\n",
              "  </thead>\n",
              "  <tbody>\n",
              "    <tr>\n",
              "      <th>0</th>\n",
              "      <td>1468</td>\n",
              "    </tr>\n",
              "    <tr>\n",
              "      <th>1</th>\n",
              "      <td>53</td>\n",
              "    </tr>\n",
              "  </tbody>\n",
              "</table>\n",
              "</div><br><label><b>dtype:</b> int64</label>"
            ],
            "text/plain": [
              "defaut\n",
              "0    1468\n",
              "1      53\n",
              "Name: count, dtype: int64"
            ]
          },
          "execution_count": 8,
          "metadata": {},
          "output_type": "execute_result"
        }
      ],
      "source": [
        "df['defaut'].value_counts()"
      ]
    },
    {
      "cell_type": "markdown",
      "metadata": {
        "id": "yYc-9Qv_BxLu"
      },
      "source": [
        "**Visualisation de la répartition des défauts à l'aide d'un diagramme circulaire**"
      ]
    },
    {
      "cell_type": "code",
      "execution_count": null,
      "metadata": {
        "colab": {
          "base_uri": "https://localhost:8080/",
          "height": 428
        },
        "id": "Rnte0cE9MTrF",
        "outputId": "019f32b6-8068-4c48-fd4c-804740c85524"
      },
      "outputs": [
        {
          "data": {
            "image/png": "[encoded data removed]",
            "text/plain": [
              "<Figure size 640x480 with 1 Axes>"
            ]
          },
          "metadata": {},
          "output_type": "display_data"
        }
      ],
      "source": [
        "default_counts = df['defaut'].value_counts()\n",
        "plt.pie(default_counts, labels=default_counts.index, autopct='%1.1f%%', colors=['lightblue','orchid'])\n",
        "plt.title('Default Rate Comparison')\n",
        "plt.show()"
      ]
    },
    {
      "cell_type": "markdown",
      "metadata": {
        "id": "uZbLA6h3CVF1"
      },
      "source": [
        "--> L'analyse montre que 96.5% des individus n'ont pas fait défaut, tandis que 3.5% ont fait défaut. Cette distribution indique un déséquilibre important dans les données, ce qui peut biaiser les résultats des modèles prédictifs.\n",
        "--> il est nécessaire d'équilibrer les données. Cela peut être fait à l'aide de techniques de sampling"
      ]
    },
    {
      "cell_type": "markdown",
      "metadata": {
        "id": "AkXOoD0POfun"
      },
      "source": [
        "Visualisation de STRUCTUREDUMANAGEMENT"
      ]
    },
    {
      "cell_type": "code",
      "execution_count": null,
      "metadata": {
        "colab": {
          "base_uri": "https://localhost:8080/",
          "height": 106
        },
        "id": "eXi9_01XOelB",
        "outputId": "85a87762-131f-431e-9c35-6073f0420685"
      },
      "outputs": [
        {
          "ename": "IndentationError",
          "evalue": "unexpected indent (<ipython-input-10-045d2ffc746c>, line 2)",
          "output_type": "error",
          "traceback": [
            "\u001b[0;36m  File \u001b[0;32m\"<ipython-input-10-045d2ffc746c>\"\u001b[0;36m, line \u001b[0;32m2\u001b[0m\n\u001b[0;31m    pd.DataFrame(CA_par_annee)\u001b[0m\n\u001b[0m    ^\u001b[0m\n\u001b[0;31mIndentationError\u001b[0m\u001b[0;31m:\u001b[0m unexpected indent\n"
          ]
        }
      ],
      "source": [
        "CA_par_annee = df.groupby([\"Annee\", \"numtiers\"])[\"CHIFFRE_AFFAIRES\"].mean().groupby(\"Annee\").mean()\n",
        " pd.DataFrame(CA_par_annee)\n",
        " df_defaut_par_annee = pd.DataFrame(CA_par_annee)\n",
        " df_defaut_par_annee.columns = ['CA_avg']\n",
        " # Add titles and labels\n",
        " plt.title('Average CA by Year', fontsize=16)\n",
        " plt.xlabel('Year', fontsize=14)\n",
        " plt.ylabel('Average CA', fontsize=14)\n",
        " # Customizing ticks and grid\n",
        " plt.xticks(df_defaut_par_annee.index, rotation=45, fontsize=12)\n",
        " plt.yticks(fontsize=12)\n",
        " plt.grid(axis='y', linestyle='--', alpha=0.7)\n",
        " # Show the plot\n",
        " plt.tight_layout()\n",
        " plt.show()\n",
        " # Create a line plot\n",
        " plt.figure(figsize=(10, 6))\n",
        " plt.plot(df_defaut_par_annee.index, df_defaut_par_annee['CA_avg'], marker='o', color='g', linestyle='-', linewidth=2)\n",
        "CHI"
      ]
    },
    {
      "cell_type": "code",
      "execution_count": null,
      "metadata": {
        "colab": {
          "background_save": true
        },
        "id": "h3iEipb63brC",
        "outputId": "2e1af30b-adc1-4f3c-9892-13c1e2379640"
      },
      "outputs": [
        {
          "name": "stdout",
          "output_type": "stream",
          "text": [
            "The dataset contains 1521 rows\n",
            "The dataset contains 39 columns\n"
          ]
        }
      ],
      "source": [
        "number_of_rows = df.shape[0]\n",
        "number_of_features = df.shape[1]\n",
        "print(f'The dataset contains {number_of_rows} rows')\n",
        "print(f'The dataset contains {number_of_features} columns')"
      ]
    },
    {
      "cell_type": "code",
      "execution_count": null,
      "metadata": {
        "id": "Ly_Sntc93i6F"
      },
      "outputs": [],
      "source": [
        "df.shape"
      ]
    },
    {
      "cell_type": "markdown",
      "metadata": {
        "id": "tizD4POyCx63"
      },
      "source": [
        "**Résumé statistique des variables numériques du DataFrame, avec transposition pour une meilleure lisibilité**"
      ]
    },
    {
      "cell_type": "code",
      "execution_count": null,
      "metadata": {
        "id": "BhPQeWph3qeS"
      },
      "outputs": [],
      "source": [
        "df.describe().transpose()"
      ]
    },
    {
      "cell_type": "markdown",
      "metadata": {
        "id": "gmDTegrt4SXy"
      },
      "source": [
        "**DATA CLEANING(Valeur manquantes,valeur abberantes...)**"
      ]
    },
    {
      "cell_type": "code",
      "execution_count": null,
      "metadata": {
        "id": "i4YpgX564RkS"
      },
      "outputs": [],
      "source": [
        "for col in df.columns:\n",
        "    unique_values = df[col].unique()\n",
        "    print(f\"Column '{col}' has {len(unique_values)} unique values\")"
      ]
    },
    {
      "cell_type": "markdown",
      "metadata": {
        "id": "Bhv9yWVx5Naq"
      },
      "source": [
        "**LES VALEURS MANQUANTES**"
      ]
    },
    {
      "cell_type": "markdown",
      "metadata": {
        "id": "zoR30KlcDNXV"
      },
      "source": [
        "METHODE GRAPHIQUE"
      ]
    },
    {
      "cell_type": "code",
      "execution_count": null,
      "metadata": {
        "id": "iCiEe65m4uSO"
      },
      "outputs": [],
      "source": [
        "import matplotlib.pyplot as plt\n",
        "import seaborn as sns\n",
        "plt.figure(figsize=(5,5))\n",
        "sns.heatmap(df.isnull(), cbar=False, cmap='PuBu')\n",
        "plt.show()"
      ]
    },
    {
      "cell_type": "markdown",
      "metadata": {
        "id": "_eXV9hDBDoXl"
      },
      "source": [
        "Visualisation des valeurs manquantes dans le DataFrame à l'aide d'une carte de chaleur, Ce code génère une carte de chaleur (heatmap) pour afficher la présence de valeurs manquantes dans le DataFrame df.\n",
        "\n",
        "---> la carte de chaleur montre une matrice sans \"zones\" de chaleur, indiquant qu'il n'y a aucune valeur manquante pour toutes les variables du DataFrame."
      ]
    },
    {
      "cell_type": "markdown",
      "metadata": {
        "id": "NVBM73TO5sFn"
      },
      "source": [
        "**TABLEAU POUR LES VALEURS MANQUANTES**"
      ]
    },
    {
      "cell_type": "markdown",
      "metadata": {
        "id": "CGJ1k1C2Elrm"
      },
      "source": [
        "METHODE PAR CALCUL"
      ]
    },
    {
      "cell_type": "code",
      "execution_count": null,
      "metadata": {
        "id": "kaqhT8y15hf0"
      },
      "outputs": [],
      "source": [
        "# create a table with data missing\n",
        "missing_values = df.isnull().sum() # missing values\n",
        "\n",
        "percent_missing = df.isnull().sum()/df.shape[0]*100 # missing value %\n",
        "\n",
        "value = {\n",
        "    'missing_values ':missing_values,\n",
        "    'percent_missing %':percent_missing ,\n",
        "     'data type' : df.dtypes\n",
        "}\n",
        "frame=pd.DataFrame(value)\n",
        "frame"
      ]
    },
    {
      "cell_type": "markdown",
      "metadata": {
        "id": "n-S5qQfvEzTF"
      },
      "source": [
        "**Séparation des colonnes catégorielles et continues dans le DataFrame**"
      ]
    },
    {
      "cell_type": "code",
      "execution_count": null,
      "metadata": {
        "id": "rugpMjZH5zBo"
      },
      "outputs": [],
      "source": [
        "categorical, contin=[],[]\n",
        "\n",
        "for i in df.columns:\n",
        "\n",
        "    if df[i].dtype == 'object':\n",
        "        categorical.append(i)\n",
        "    else:\n",
        "        contin.append(i)\n",
        "\n",
        "print(categorical)\n",
        "print(contin)"
      ]
    },
    {
      "cell_type": "markdown",
      "metadata": {
        "id": "_LQntroBFGDd"
      },
      "source": [
        "**Affichage des valeurs uniques pour chaque colonne catégorielle**"
      ]
    },
    {
      "cell_type": "code",
      "execution_count": null,
      "metadata": {
        "id": "aFffAWFz86RB"
      },
      "outputs": [],
      "source": [
        "for column in categorical:\n",
        "    unique_values = df[column].unique()\n",
        "    print(f\"Valeurs uniques pour {column} : {unique_values}\\n\")"
      ]
    },
    {
      "cell_type": "markdown",
      "metadata": {
        "id": "PUdEpI4XOAY9"
      },
      "source": [
        "**SAMPLING pour equilibrer DataSet**"
      ]
    },
    {
      "cell_type": "code",
      "execution_count": null,
      "metadata": {
        "id": "wqAxig3GTwQL"
      },
      "outputs": [],
      "source": [
        "class CFG:\n",
        "    seed = 42  # Random seed\n",
        "    neg_sample = 0.15 # Downsample negative calss\n",
        "    pos_sample = 1.5  # Upsample positive class\n",
        "    class_names = ['defaut']"
      ]
    },
    {
      "cell_type": "code",
      "execution_count": null,
      "metadata": {
        "id": "lpDlYo26OphJ"
      },
      "outputs": [],
      "source": [
        "# Sampling\n",
        "positive_df = df.query(\"defaut==0\").sample(frac=CFG.neg_sample, random_state=CFG.seed)\n",
        "negative_df = df.query(\"defaut==1\").sample(frac=CFG.pos_sample, replace=True, random_state=CFG.seed)\n",
        "df = pd.concat([positive_df, negative_df], axis=0).sample(frac=1.0)\n",
        "\n",
        "print(\"\\nCalss Distribution After Sampling (%):\")\n",
        "display(df.defaut.value_counts(normalize=True)*100)"
      ]
    },
    {
      "cell_type": "code",
      "execution_count": null,
      "metadata": {
        "id": "kCJfbUk7PMIn"
      },
      "outputs": [],
      "source": [
        "default_counts = df['defaut'].value_counts()\n",
        "plt.pie(default_counts, labels=default_counts.index, autopct='%1.1f%%', colors=['lightblue','orchid'])\n",
        "plt.title('Default Rate Comparison')\n",
        "plt.show()"
      ]
    },
    {
      "cell_type": "markdown",
      "metadata": {
        "id": "8h2nGHsWISd_"
      },
      "source": [
        "---> Cela montre une amélioration de l'équilibre entre les deux classes, comparé à la distribution initiale très déséquilibrée (96.5% pour ceux qui n'ont pas fait défaut et 3.5% pour ceux qui ont fait défaut)."
      ]
    },
    {
      "cell_type": "markdown",
      "metadata": {
        "id": "G5I8MXwbPjkU"
      },
      "source": [
        "**CALCUL DES RATIOS**"
      ]
    },
    {
      "cell_type": "markdown",
      "metadata": {
        "id": "sW47E-HyJCXe"
      },
      "source": [
        "**1-Croissance du Chiffre d'Affaires (%) :**\n",
        "Ce ratio mesure la variation en pourcentage du chiffre d'affaires d'une période à l'autre, reflétant ainsi l'évolution des revenus de l'entreprise sur une période donnée.\n",
        "\n",
        "**2-Marge Brute (%) :**\n",
        "Cet indicateur montre la proportion du chiffre d'affaires qui reste après le coût des biens et services vendus, illustrant ainsi la rentabilité brute de l'entreprise.\n",
        "\n",
        "**3-Rentabilité d'Exploitation (%) :**\n",
        "Ce ratio mesure la rentabilité des activités opérationnelles de l'entreprise en fonction de son chiffre d'affaires, après déduction des charges d'exploitation, mais avant amortissements, provisions et impôts.\n",
        "\n",
        "**4-Taux EBE (%) :**\n",
        "Cet indicateur évalue la rentabilité opérationnelle de l'entreprise, exprimant le pourcentage du chiffre d'affaires qui reste après les charges d'exploitation, avant la prise en compte des amortissements, des provisions et des impôts.\n",
        "\n",
        "**5-Rentabilité Nette (%) :**\n",
        "Ce ratio indique la rentabilité globale de l'entreprise après la prise en compte de toutes les charges, impôts et autres coûts, exprimée par rapport au chiffre d'affaires."
      ]
    },
    {
      "cell_type": "code",
      "execution_count": null,
      "metadata": {
        "id": "1mdMf75-PrdM"
      },
      "outputs": [],
      "source": [
        "df[\"Margebrute%\"] = (df[\"EXCEDENT_BRUT_EXPLOITATION\"] / df[\"CHIFFRE_AFFAIRES\"]) * 100\n",
        "\n",
        "df[\"CroissanceCA%\"] = df[\"CHIFFRE_AFFAIRES\"].pct_change() * 100  # Besoin des données annuelles\n",
        "\n",
        "df[\"TauxEBE%\"] = (df[\"EXCEDENT_BRUT_EXPLOITATION\"] / df[\"CHIFFRE_AFFAIRES\"]) * 100\n",
        "\n",
        "df[\"Rentabilitéexploitation%\"] = (df[\"RESULTAT_EXPlOITATION\"] / df[\"CHIFFRE_AFFAIRES\"]) * 100\n",
        "\n",
        "df[\"Rentabiliténette%\"] = (df[\"RESULTAT_NET\"] / df[\"CHIFFRE_AFFAIRES\"]) * 100"
      ]
    },
    {
      "cell_type": "markdown",
      "metadata": {
        "id": "16fvFB-XKR4s"
      },
      "source": [
        "**Vérification des valeurs manquantes pour les ratios financiers**"
      ]
    },
    {
      "cell_type": "code",
      "execution_count": null,
      "metadata": {
        "id": "8PWWRACvQmTV"
      },
      "outputs": [],
      "source": [
        "# Liste des colonnes à vérifier\n",
        "columns_to_check = ['Margebrute%', 'CroissanceCA%', 'TauxEBE%','Rentabilitéexploitation%','Rentabiliténette%']  # Remplacez avec vos colonnes\n",
        "\n",
        "# Parcourir chaque colonne et afficher le nombre de valeurs manquantes\n",
        "for column in columns_to_check:\n",
        "    missing_count = df[column].isna().sum()\n",
        "    print(f\"Nombre total de valeurs manquantes dans '{column}' : {missing_count}\")\n"
      ]
    },
    {
      "cell_type": "markdown",
      "metadata": {
        "id": "nnRpSzsYKdWe"
      },
      "source": [
        "----> La colonne 'CroissanceCA%' présente une valeur manquante, tandis que toutes les autres colonnes ne contiennent aucune valeur manquante."
      ]
    },
    {
      "cell_type": "markdown",
      "metadata": {
        "id": "R9ajh-AWKsDG"
      },
      "source": [
        "**Remplissage des valeurs manquantes dans la colonne 'CroissanceCA%' par 0**"
      ]
    },
    {
      "cell_type": "code",
      "execution_count": null,
      "metadata": {
        "id": "QNpnxJR6RPs1"
      },
      "outputs": [],
      "source": [
        "df[['CroissanceCA%']] = df[['CroissanceCA%']].fillna(0)\n"
      ]
    },
    {
      "cell_type": "code",
      "execution_count": null,
      "metadata": {
        "id": "bMWQ3Sv1bbz1"
      },
      "outputs": [],
      "source": [
        "columns_of_interest = [\n",
        "    'CHIFFRE_AFFAIRES',\n",
        "       'EXCEDENT_BRUT_EXPLOITATION', 'RESULTAT_EXPlOITATION', 'RESULTAT_NET',\n",
        "       'FINANCEMENT_PERMANENT', 'FONDS_DE_ROULEMENT', 'BESOIN_FONDS_ROULEMENT',\n",
        "       'CAPITAUX_PROPRES', 'TRESORIE_NETTE', 'TOTAL_BILAN', 'DETTE_FINANCIERE',\n",
        "       'ACTIF_CIRCULANT', 'PASSIF_CIRCULANT', 'TOTAL_ACTIF', 'TOTAL_PASSIF',\n",
        "       'DELAI_REGLEMENT_CLIENTS', 'DELAI_REGLEMENT_FOURNISSEURS',\n",
        "       'AUTO_FINANCEMENT', 'FRAIS_FINANCIERS', 'STOCK', 'Margebrute%', 'CroissanceCA%', 'TauxEBE%',\n",
        "       'Rentabilitéexploitation%', 'Rentabiliténette%'\n",
        "]\n",
        "\n",
        "df_selected = df[columns_of_interest]"
      ]
    },
    {
      "cell_type": "markdown",
      "metadata": {
        "id": "xXS7MeakbwKS"
      },
      "source": [
        "**Traitement des valeurs extrêmes**"
      ]
    },
    {
      "cell_type": "code",
      "execution_count": null,
      "metadata": {
        "id": "uv2qkV2Gbsi2"
      },
      "outputs": [],
      "source": [
        "plt.figure(figsize=(12, 8))  # Adjust the figure size\n",
        "sns.boxplot(data=df_selected, orient='h', palette='Set2')\n",
        "plt.title('Box Plot for Selected Financial Metrics')\n",
        "plt.xlabel('Value')\n",
        "plt.ylabel('Metrics')\n",
        "plt.show()"
      ]
    },
    {
      "cell_type": "markdown",
      "metadata": {
        "id": "9tlz0iGzLjx2"
      },
      "source": [
        "**Suppression des valeurs extrêmes et visualisation avec un boxplot pour les indicateurs financiers sélectionnés**"
      ]
    },
    {
      "cell_type": "code",
      "execution_count": null,
      "metadata": {
        "id": "_mjTr0mKb7x_"
      },
      "outputs": [],
      "source": [
        "# Assuming df is your dataframe and columns_of_interest are defined\n",
        "columns_of_interest = [\n",
        "    'CHIFFRE_AFFAIRES',\n",
        "       'EXCEDENT_BRUT_EXPLOITATION', 'RESULTAT_EXPlOITATION', 'RESULTAT_NET',\n",
        "       'FINANCEMENT_PERMANENT', 'FONDS_DE_ROULEMENT', 'BESOIN_FONDS_ROULEMENT',\n",
        "       'CAPITAUX_PROPRES', 'TRESORIE_NETTE', 'TOTAL_BILAN', 'DETTE_FINANCIERE',\n",
        "       'ACTIF_CIRCULANT', 'PASSIF_CIRCULANT', 'TOTAL_ACTIF', 'TOTAL_PASSIF',\n",
        "       'DELAI_REGLEMENT_CLIENTS', 'DELAI_REGLEMENT_FOURNISSEURS',\n",
        "       'AUTO_FINANCEMENT', 'FRAIS_FINANCIERS', 'STOCK', 'Margebrute%', 'CroissanceCA%', 'TauxEBE%',\n",
        "       'Rentabilitéexploitation%', 'Rentabiliténette%'\n",
        "]\n",
        "\n",
        "# Filter the data\n",
        "df_selected = df[columns_of_interest]\n",
        "\n",
        "# Function to remove outliers based on IQR\n",
        "def remove_outliers(df):\n",
        "    df_no_outliers = df.copy()\n",
        "\n",
        "    for column in df.columns:\n",
        "        Q1 = df[column].quantile(0.25)\n",
        "        Q3 = df[column].quantile(0.75)\n",
        "        IQR = Q3 - Q1\n",
        "\n",
        "        # Define the bounds for outliers\n",
        "        lower_bound = Q1 - 1.5 * IQR\n",
        "        upper_bound = Q3 + 1.5 * IQR\n",
        "\n",
        "        # Filter rows where values are within the bounds\n",
        "        df_no_outliers = df_no_outliers[(df_no_outliers[column] >= lower_bound) & (df_no_outliers[column] <= upper_bound)]\n",
        "\n",
        "    return df_no_outliers\n",
        "\n",
        "# Remove outliers\n",
        "df_no_outliers = remove_outliers(df_selected)\n",
        "\n",
        "# Create the box plot for data without outliers\n",
        "plt.figure(figsize=(12, 8))  # Adjust the figure size\n",
        "sns.boxplot(data=df_no_outliers, orient='h', palette='Set2')\n",
        "plt.title('Box Plot for Selected Financial Metrics (Without Outliers)')\n",
        "plt.xlabel('Value')\n",
        "plt.ylabel('Metrics')\n",
        "plt.show()"
      ]
    },
    {
      "cell_type": "markdown",
      "metadata": {
        "id": "7WAB6tXwcXlZ"
      },
      "source": [
        "**Remplacer les valeurs abberantes avec les valeurs limites**"
      ]
    },
    {
      "cell_type": "code",
      "execution_count": null,
      "metadata": {
        "id": "JehxP-ZkcSr2"
      },
      "outputs": [],
      "source": [
        "# Assuming df is your original dataframe and columns_of_interest are defined\n",
        "columns_of_interest = [\n",
        "    'CHIFFRE_AFFAIRES',\n",
        "       'EXCEDENT_BRUT_EXPLOITATION', 'RESULTAT_EXPlOITATION', 'RESULTAT_NET',\n",
        "       'FINANCEMENT_PERMANENT', 'FONDS_DE_ROULEMENT', 'BESOIN_FONDS_ROULEMENT',\n",
        "       'CAPITAUX_PROPRES', 'TRESORIE_NETTE', 'TOTAL_BILAN', 'DETTE_FINANCIERE',\n",
        "       'ACTIF_CIRCULANT', 'PASSIF_CIRCULANT', 'TOTAL_ACTIF', 'TOTAL_PASSIF',\n",
        "       'DELAI_REGLEMENT_CLIENTS', 'DELAI_REGLEMENT_FOURNISSEURS',\n",
        "       'AUTO_FINANCEMENT', 'FRAIS_FINANCIERS', 'STOCK', 'Margebrute%', 'CroissanceCA%', 'TauxEBE%',\n",
        "       'Rentabilitéexploitation%', 'Rentabiliténette%'\n",
        "]\n",
        "\n",
        "# Function to replace outliers with the nearest valid value in the original dataframe\n",
        "def replace_outliers_with_nearest_value_in_place(df):\n",
        "    for column in df.columns:\n",
        "        if column in columns_of_interest:  # Only apply to selected columns\n",
        "            # Calculate Q1, Q3, and IQR for each column\n",
        "            Q1 = df[column].quantile(0.25)\n",
        "            Q3 = df[column].quantile(0.75)\n",
        "            IQR = Q3 - Q1\n",
        "\n",
        "            # Define the lower and upper bounds for outliers\n",
        "            lower_bound = Q1 - 1.5 * IQR\n",
        "            upper_bound = Q3 + 1.5 * IQR\n",
        "\n",
        "            # Replace outliers with the nearest bound using .loc[]\n",
        "            df.loc[df[column] < lower_bound, column] = lower_bound  # Replace values below the lower bound\n",
        "            df.loc[df[column] > upper_bound, column] = upper_bound  # Replace values above the upper bound\n",
        "\n",
        "# Replace outliers in the original dataframe (df)\n",
        "replace_outliers_with_nearest_value_in_place(df)\n",
        "\n",
        "\n",
        "# Create the box plot for the modified dataframe (outliers replaced in place)\n",
        "plt.figure(figsize=(12, 8))  # Adjust the figure size\n",
        "sns.boxplot(data=df[columns_of_interest], orient='h', palette='Set2')\n",
        "plt.title('Box Plot for Selected Financial Metrics (Outliers Replaced in Place)')\n",
        "plt.xlabel('Value')\n",
        "plt.ylabel('Metrics')\n",
        "plt.show()\n"
      ]
    },
    {
      "cell_type": "markdown",
      "metadata": {
        "id": "R7QCI3KXMWqu"
      },
      "source": [
        "----->D'après les boxplot généré, nous pouvons constater qu'il n'y a aucune valeur aberrante (outliers) présente dans les données après avoir supprimé les valeurs extrêmes."
      ]
    },
    {
      "cell_type": "code",
      "execution_count": null,
      "metadata": {
        "id": "0oHTmF7DcsMY"
      },
      "outputs": [],
      "source": [
        "df.head()"
      ]
    },
    {
      "cell_type": "code",
      "execution_count": null,
      "metadata": {
        "id": "LoOcx8O3czhB"
      },
      "outputs": [],
      "source": [
        "df.describe().transpose()"
      ]
    },
    {
      "cell_type": "markdown",
      "metadata": {
        "id": "ZaTvDZpUM2Jm"
      },
      "source": [
        "**Conversion des Dates de Création en Âge**"
      ]
    },
    {
      "cell_type": "markdown",
      "metadata": {
        "id": "DUsmTDZeM3zu"
      },
      "source": [
        "Pour convertir les dates de création en âge, on calcule la différence entre l'année actuelle et la date de création. Cette transformation permet d'obtenir des informations utiles sur l'âge des entreprises et des tiers dans le jeu de données."
      ]
    },
    {
      "cell_type": "code",
      "execution_count": null,
      "metadata": {
        "id": "yKAv3h6vxYCK"
      },
      "outputs": [],
      "source": [
        "# Ensure 'date de creation de tier' is a datetime type\n",
        "df['DATE_DE_CREATION_TIERS'] = pd.to_datetime(df['DATE_DE_CREATION_TIERS'], errors='coerce')\n",
        "\n",
        "# Create a reference date using 'annee' as the year\n",
        "df['reference_date'] = pd.to_datetime(df['Annee'].astype(str) + '-12-31')  # Using Dec 31 of the 'annee'\n",
        "\n",
        "# Calculate the age in years by comparing the reference date with 'date de creation de tier'\n",
        "df['age_tier'] = (df['reference_date'] - df['DATE_DE_CREATION_TIERS']).dt.days // 365\n",
        "\n",
        "# Drop the intermediate 'reference_date' column if not needed\n",
        "df.drop(columns=['reference_date'], inplace=True)\n",
        "df.drop(columns=['DATE_DE_CREATION_TIERS'], inplace=True)"
      ]
    },
    {
      "cell_type": "code",
      "execution_count": null,
      "metadata": {
        "id": "Pa5Ou5ISc30N"
      },
      "outputs": [],
      "source": [
        "# Ensure 'date de creation de l'entreprise' is a datetime type\n",
        "df['DATE_DE_CREATION_ENTREP'] = pd.to_datetime(df['DATE_DE_CREATION_ENTREP'], errors='coerce')\n",
        "\n",
        "# Create a reference date using 'annee' as the year\n",
        "df['reference_date'] = pd.to_datetime(df['Annee'].astype(str) + '-12-31')  # Using Dec 31 of the 'annee'\n",
        "\n",
        "# Calculate the age in years by comparing the reference date with 'date de creation de tier'\n",
        "df['age_ent'] = (df['reference_date'] - df['DATE_DE_CREATION_ENTREP']).dt.days // 365\n",
        "\n",
        "# Drop the intermediate 'reference_date' column if not needed\n",
        "df.drop(columns=['reference_date'], inplace=True)\n"
      ]
    },
    {
      "cell_type": "code",
      "execution_count": null,
      "metadata": {
        "id": "A37kyBhdga1H"
      },
      "outputs": [],
      "source": [
        "df.head()"
      ]
    },
    {
      "cell_type": "code",
      "execution_count": null,
      "metadata": {
        "id": "WRyIExmhhtbR"
      },
      "outputs": [],
      "source": [
        "df.drop(columns=['DATE_DE_CREATION_ENTREP'], inplace=True)"
      ]
    },
    {
      "cell_type": "markdown",
      "metadata": {
        "id": "WL3oJM6Uj6fw"
      },
      "source": [
        "**LABEL ENCODING**"
      ]
    },
    {
      "cell_type": "code",
      "execution_count": null,
      "metadata": {
        "id": "M1xLa3v5j5_-"
      },
      "outputs": [],
      "source": [
        "categorical_columns = df.select_dtypes(include=['object', 'category']).columns.tolist()\n",
        "\n",
        "# Dictionary to store mappings of categorical values to their encoded labels\n",
        "mappings = {}\n",
        "\n",
        "# Apply label encoding to each categorical column and store the mappings\n",
        "for col in categorical_columns:\n",
        "    # Convert the column to 'category' type\n",
        "    df[col] = df[col].astype('category')\n",
        "\n",
        "    # Store the mapping of original categories to their encoded values\n",
        "    mappings[col] = {category: code for code, category in enumerate(df[col].cat.categories)}\n",
        "\n",
        "    # Replace the original categories with their corresponding codes\n",
        "    df[col] = df[col].cat.codes\n",
        "\n",
        "# Display the mappings for each categorical column\n",
        "for col, mapping in mappings.items():\n",
        "    print(f\"Column: {col}\")\n",
        "    for category, code in mapping.items():\n",
        "        print(f\"  {category} -> {code}\")\n",
        "    print()"
      ]
    },
    {
      "cell_type": "markdown",
      "metadata": {
        "id": "63jGSsXhNT4A"
      },
      "source": [
        "Ce code effectue l'encodage des variables catégorielles dans le DataFrame df en remplaçant chaque catégorie par un code numérique. Cela permet de transformer les variables qualitatives en variables quantitatives, ce qui est souvent nécessaire pour les modèles de machine learning."
      ]
    },
    {
      "cell_type": "markdown",
      "metadata": {
        "id": "kdmKTDA9nJau"
      },
      "source": [
        "#on a les memes valeurs pour ces variables qu'on va les traiter"
      ]
    },
    {
      "cell_type": "markdown",
      "metadata": {
        "id": "wT_P-IdQNiof"
      },
      "source": [
        "Par exemple pour la variable DIVERSITE_FOURNISSEURS,  Tres grande diversite -> 4\n",
        "  Très grande diversite -> 5 representent la meme chose"
      ]
    },
    {
      "cell_type": "code",
      "execution_count": null,
      "metadata": {
        "id": "l1Dx6V1poG7f"
      },
      "outputs": [],
      "source": [
        "df['EXPERIENCE_MANAGEMENT_MOYENNE_DIRIGEANT'] = df['EXPERIENCE_MANAGEMENT_MOYENNE_DIRIGEANT'].replace({2: 0, 0: 2})\n",
        "\n",
        "df['DIVERSITE_CLIENTS'] = df['DIVERSITE_CLIENTS'].replace({6: 0, 0: 2,5: 3,2: 4})\n",
        "\n",
        "df['DIVERSITE_FOURNISSEURS'] = df['DIVERSITE_FOURNISSEURS'].replace({2: 0, 3: 1, 0: 2, 1: 3})\n",
        "\n",
        "\n",
        "df['NIVEAU_COMPETITIVITE'] = df['NIVEAU_COMPETITIVITE'].replace({0: 3, 3: 0})\n",
        "\n",
        "df['QUALITE_INFORMATION_FINANCIERE'] = df['QUALITE_INFORMATION_FINANCIERE'].replace({2: 0, 0: 2})\n",
        "\n",
        "df['REPUTATION'] = df['REPUTATION'].replace({1: 0, 2: 1,0: 2})\n",
        "\n",
        "df['STRUCTUREDUMANAGEMENT'] = df['STRUCTUREDUMANAGEMENT'].replace({2: 0, 0: 2})\n",
        "\n",
        "df['SUPPORT'] = df['SUPPORT'].replace({2: 0, 0: 1,4: 2,1: 4})\n",
        "\n",
        "df['POSITIONNEMENTMARCHE'] = df['POSITIONNEMENTMARCHE'].replace({2: 0, 0: 2})\n",
        "\n",
        "df['Categorie_juridique'] = df['Categorie_juridique'].replace({1: 0, 0: 1})"
      ]
    },
    {
      "cell_type": "code",
      "execution_count": null,
      "metadata": {
        "id": "-ybWKc2KmEg4"
      },
      "outputs": [],
      "source": [
        "# Fuse values 2, 3, and 4 into a single category (let's use value 2)\n",
        "df['DIVERSITE_CLIENTS'] = df['DIVERSITE_CLIENTS'].replace({2: 2, 3: 2, 4: 2})\n",
        "df['DIVERSITE_CLIENTS'] = df['DIVERSITE_CLIENTS'].replace({5: 3, 6: 4})\n",
        "# Check the unique values in DIVERSITE_CLIENTS after fusion\n",
        "print(df['DIVERSITE_CLIENTS'].value_counts())"
      ]
    },
    {
      "cell_type": "code",
      "execution_count": null,
      "metadata": {
        "id": "lYbsatOmn3XX"
      },
      "outputs": [],
      "source": [
        "# Fuse values 2, 3, and 4 into a single category (let's use value 2)\n",
        "df['DIVERSITE_FOURNISSEURS'] = df['DIVERSITE_FOURNISSEURS'].replace({4: 4, 5: 4})\n",
        "\n",
        "# Check the unique values in DIVERSITE_CLIENTS after fusion\n",
        "print(df['DIVERSITE_FOURNISSEURS'].value_counts())"
      ]
    },
    {
      "cell_type": "code",
      "execution_count": null,
      "metadata": {
        "id": "gMGfOrAvn9dQ"
      },
      "outputs": [],
      "source": [
        "# Fuse values 2, 3, and 4 into a single category (let's use value 2)\n",
        "df['IMPACT_SOCIAUX_ENVIRONNEMENTAL'] = df['IMPACT_SOCIAUX_ENVIRONNEMENTAL'].replace({1: 1, 2: 1})\n",
        "df['IMPACT_SOCIAUX_ENVIRONNEMENTAL'] = df['IMPACT_SOCIAUX_ENVIRONNEMENTAL'].replace({3: 2, 4: 3, 5: 4})\n",
        "# Check the unique values in DIVERSITE_CLIENTS after fusion\n",
        "print(df['IMPACT_SOCIAUX_ENVIRONNEMENTAL'].value_counts())"
      ]
    },
    {
      "cell_type": "code",
      "execution_count": null,
      "metadata": {
        "id": "L1NorpvVoAb_"
      },
      "outputs": [],
      "source": [
        "# Fuse values 2, 3, and 4 into a single category (let's use value 2)\n",
        "df['NIVEAU_COMPETITIVITE'] = df['NIVEAU_COMPETITIVITE'].replace({3: 3, 4: 3})\n",
        "\n",
        "# Check the unique values in DIVERSITE_CLIENTS after fusion\n",
        "print(df['NIVEAU_COMPETITIVITE'].value_counts())"
      ]
    },
    {
      "cell_type": "code",
      "execution_count": null,
      "metadata": {
        "id": "gKosdcFZoCLo"
      },
      "outputs": [],
      "source": [
        "df"
      ]
    },
    {
      "cell_type": "code",
      "execution_count": null,
      "metadata": {
        "id": "fjCEH7zbocKi"
      },
      "outputs": [],
      "source": [
        "df.info()"
      ]
    },
    {
      "cell_type": "code",
      "execution_count": null,
      "metadata": {
        "id": "5RN6ZSb9rBQf"
      },
      "outputs": [],
      "source": [
        "df.drop(columns=['numtiers'], inplace=True)"
      ]
    },
    {
      "cell_type": "code",
      "execution_count": null,
      "metadata": {
        "id": "PQrjNi6ppEsg"
      },
      "outputs": [],
      "source": [
        "print(categorical)\n",
        "print(contin)\n",
        "target='defaut'"
      ]
    },
    {
      "cell_type": "markdown",
      "metadata": {
        "id": "AWGWOVqor5Sv"
      },
      "source": [
        "**Importation des bibliothèques pour les tests de corrélation et d'analyse statistique**"
      ]
    },
    {
      "cell_type": "code",
      "execution_count": null,
      "metadata": {
        "id": "VWHDV5gDpYGq"
      },
      "outputs": [],
      "source": [
        "from scipy.stats import pearsonr, f_oneway\n",
        "from scipy.stats import chi2_contingency"
      ]
    },
    {
      "cell_type": "markdown",
      "metadata": {
        "id": "epSYipqpr0li"
      },
      "source": [
        "**HEATMAP entre les variables quantitatives et qualitatives en utilisant les tests statistique Pearson Correlation, v-Cramer Correlation, ANOVA F-Statistic**"
      ]
    },
    {
      "cell_type": "markdown",
      "metadata": {
        "id": "ThVRP4VtPoBv"
      },
      "source": [
        "**1-Relation entre les variables quantitatives avec le coefficient de corrélation de Pearson**:\n",
        "\n",
        "-Le coefficient de Pearson mesure la relation linéaire entre deux variables quantitatives, allant de -1 (corrélation négative parfaite) à 1 (corrélation positive parfaite). Une valeur de 0 indique aucune relation linéaire.\n",
        "\n",
        "**2-Relation entre les variables qualitatives avec le V de Cramér**:\n",
        "\n",
        "-Le V de Cramér mesure l'association entre deux variables qualitatives, de 0 (pas d'association) à 1 (association parfaite). C'est une mesure utile pour les variables catégorielles.\n",
        "\n",
        "**3-Relation entre les variables qualitatives et quantitatives avec l'ANOVA**:\n",
        "\n",
        "-L'ANOVA teste si les moyennes d'une variable quantitative diffèrent entre plusieurs groupes définis par une variable qualitative. Une p-value inférieure à 0.05 indique une différence significative.\n",
        "\n"
      ]
    },
    {
      "cell_type": "code",
      "execution_count": null,
      "metadata": {
        "id": "3ZiNo7fKuWPt"
      },
      "outputs": [],
      "source": [
        "# Function for V-Cramer correlation\n",
        "def v_cramer(var1, var2):\n",
        "    contingency_table = pd.crosstab(var1, var2)\n",
        "    chi2, _, _, _ = chi2_contingency(contingency_table)\n",
        "    n = contingency_table.sum().sum()\n",
        "    return np.sqrt(chi2 / (n * (min(contingency_table.shape) - 1)))\n",
        "\n",
        "# Function for calculating correlations\n",
        "def calculate_correlations(df, num_col, cat_col, target):\n",
        "    correlations = {}\n",
        "\n",
        "    # Pearson correlation for quantitative variables\n",
        "    for col1 in num_col:\n",
        "        for col2 in num_col:\n",
        "            if col1 != col2:\n",
        "                corr, _ = pearsonr(df[col1], df[col2])\n",
        "                correlations[f\"{col1} vs {col2} (Pearson)\"] = corr\n",
        "\n",
        "    # ANOVA for quantitative vs qualitative variables\n",
        "    for quanti in num_col:\n",
        "        for quali in cat_col:\n",
        "            groups = [df[quanti][df[quali] == val] for val in df[quali].unique()]\n",
        "            f_stat, p_value = f_oneway(*groups)\n",
        "            correlations[f\"{quanti} vs {quali} (ANOVA)\"] = f_stat\n",
        "\n",
        "    # V-Cramer for qualitative vs qualitative variables\n",
        "    for col1 in cat_col:\n",
        "        for col2 in cat_col:\n",
        "            if col1 != col2:\n",
        "                correlations[f\"{col1} vs {col2} (V-Cramer)\"] = v_cramer(df[col1], df[col2])\n",
        "\n",
        "    # Correlation with target (binary variable)\n",
        "    for col in num_col:\n",
        "        corr, _ = pearsonr(df[col], df[target])\n",
        "        correlations[f\"{col} vs {target} (Pearson)\"] = corr\n",
        "\n",
        "    for col in cat_col:\n",
        "        correlations[f\"{col} vs {target} (V-Cramer)\"] = v_cramer(df[col], df[target])\n",
        "\n",
        "    return correlations\n"
      ]
    },
    {
      "cell_type": "code",
      "execution_count": null,
      "metadata": {
        "id": "ShCCu8Ltq4xK"
      },
      "outputs": [],
      "source": [
        "def plot_individual_heatmaps(correlations):\n",
        "    # Convert the correlations dictionary to a DataFrame\n",
        "    corr_df = pd.DataFrame(list(correlations.items()), columns=['Variable Pair', 'Correlation'])\n",
        "    corr_df[['Var1', 'Var2']] = corr_df['Variable Pair'].str.extract(r'(.*) vs (.*)')\n",
        "\n",
        "    # Separate data by correlation type\n",
        "    quanti_quanti = corr_df[corr_df['Variable Pair'].str.contains('(Pearson)')]\n",
        "    quali_quali = corr_df[corr_df['Variable Pair'].str.contains('(V-Cramer)')]\n",
        "    quanti_quali = corr_df[corr_df['Variable Pair'].str.contains('(ANOVA)')]\n",
        "\n",
        "    # Helper function to plot a heatmap\n",
        "    def plot_heatmap(data, title):\n",
        "        if not data.empty:\n",
        "            heatmap_data = data.pivot_table(index='Var1', columns='Var2', values='Correlation')\n",
        "            plt.figure(figsize=(30, 28))\n",
        "            sns.heatmap(heatmap_data, annot=True, cmap='coolwarm', fmt='.2f', cbar_kws={'label': 'Correlation'})\n",
        "            plt.title(title)\n",
        "            plt.xlabel('Variable 2')\n",
        "            plt.ylabel('Variable 1')\n",
        "            plt.tight_layout()\n",
        "            plt.show()\n",
        "\n",
        "    # Plot heatmaps\n",
        "    plot_heatmap(quanti_quanti, \"Quantitative vs Quantitative (Pearson Correlation)\")\n",
        "    plot_heatmap(quali_quali, \"Qualitative vs Qualitative (V-Cramer Correlation)\")\n",
        "    plot_heatmap(quanti_quali, \"Quantitative vs Qualitative (ANOVA F-Statistic)\")\n"
      ]
    },
    {
      "cell_type": "code",
      "execution_count": null,
      "metadata": {
        "id": "hyvYJYmMwqvJ"
      },
      "outputs": [],
      "source": [
        "df.columns"
      ]
    },
    {
      "cell_type": "code",
      "execution_count": null,
      "metadata": {
        "id": "iZ-4yCjHwQjS"
      },
      "outputs": [],
      "source": [
        "contin=['CHIFFRE_AFFAIRES',\n",
        "       'EXCEDENT_BRUT_EXPLOITATION', 'RESULTAT_EXPlOITATION', 'RESULTAT_NET',\n",
        "       'FINANCEMENT_PERMANENT', 'FONDS_DE_ROULEMENT', 'BESOIN_FONDS_ROULEMENT',\n",
        "       'CAPITAUX_PROPRES', 'TRESORIE_NETTE', 'TOTAL_BILAN', 'DETTE_FINANCIERE',\n",
        "       'ACTIF_CIRCULANT', 'PASSIF_CIRCULANT', 'TOTAL_ACTIF', 'TOTAL_PASSIF',\n",
        "       'DELAI_REGLEMENT_CLIENTS', 'DELAI_REGLEMENT_FOURNISSEURS',\n",
        "       'AUTO_FINANCEMENT', 'FRAIS_FINANCIERS', 'STOCK', 'Margebrute%', 'CroissanceCA%', 'TauxEBE%',\n",
        "       'Rentabilitéexploitation%', 'Rentabiliténette%', 'age_tier', 'age_ent']\n",
        "categorical=['EXPERIENCE_MANAGEMENT_MOYENNE_DIRIGEANT', 'DIVERSITE_CLIENTS',\n",
        "       'DIVERSITE_FOURNISSEURS', 'IMPACT_SOCIAUX_ENVIRONNEMENTAL',\n",
        "       'NIVEAU_COMPETITIVITE', 'QUALITE_INFORMATION_FINANCIERE', 'REPUTATION',\n",
        "       'STRUCTUREDUMANAGEMENT', 'SUPPORT', 'POSITIONNEMENTMARCHE',\n",
        "       'Categorie_juridique', 'Cote en bourse', 'Appartenance a un groupe',\n",
        "       'Secteurs']"
      ]
    },
    {
      "cell_type": "code",
      "execution_count": null,
      "metadata": {
        "id": "bEYIne8_t_2p"
      },
      "outputs": [],
      "source": [
        "import numpy as np\n",
        "# Calculate correlations\n",
        "correlation_results = calculate_correlations(df, contin, categorical, target)\n",
        "\n",
        "# Plot individual heatmaps\n",
        "plot_individual_heatmaps(correlation_results)"
      ]
    },
    {
      "cell_type": "markdown",
      "metadata": {
        "id": "RrthrGBX0Qop"
      },
      "source": [
        "**Analyse des Variables Continues (WOE, IV, Discrétisation)**"
      ]
    },
    {
      "cell_type": "markdown",
      "metadata": {
        "id": "kgqIY7p5SKpf"
      },
      "source": [
        "**1-Discrétisation des Variables Continues:**\n",
        "La discrétisation consiste à convertir des variables continues en variables catégoriques en les regroupant dans des intervalles (ou \"bins\"). Cette méthode simplifie les analyses tout en préservant les tendances significatives des données. Elle est fréquemment utilisée dans les modèles de scoring, tels que ceux pour évaluer les risques de crédit.\n",
        "Chaque intervalle devient une catégorie distincte, permettant d’examiner leur impact sur la variable cible. Cette transformation améliore également l’interprétabilité et peut faciliter la détection des relations non linéaires.\n",
        "\n",
        "**2-Weight of Evidence (WOE):**\n",
        "Le Weight of Evidence (WOE) est une mesure qui exprime la relation entre une catégorie discrétisée et la probabilité d’un événement (par exemple, un défaut de paiement). Il est calculé en prenant le logarithme du ratio entre la proportion de non-événements et d’événements dans chaque catégorie.\n",
        "\n",
        "-Un WOE positif indique une association plus forte avec les événements (par exemple, défaut).\n",
        "-Un WOE négatif indique une association avec les non-événements.\n",
        "\n",
        "\n",
        "**3-Information Value (IV)**\n",
        "L’Information Value (IV) mesure la capacité d’une variable discrétisée à différencier les classes d’une variable cible (comme défaut ou non-défaut). Elle combine les WOE et la différence des proportions d’événements et de non-événements pour chaque catégorie.\n",
        "\n",
        "Interprétation de l’IV :\n",
        "IV < 0.02 : Pouvoir prédictif très faible.\n",
        "0.02 ≤ IV < 0.1 : Pouvoir prédictif faible.\n",
        "0.1 ≤ IV < 0.3 : Pouvoir prédictif modéré.\n",
        "IV ≥ 0.3 : Pouvoir prédictif élevé."
      ]
    },
    {
      "cell_type": "markdown",
      "metadata": {
        "id": "eKJ6kFq_T3rj"
      },
      "source": [
        "![Capture.PNG](data:image/png;base64,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)"
      ]
    },
    {
      "cell_type": "markdown",
      "metadata": {
        "id": "BK7YzbCMUHa4"
      },
      "source": [
        "![Capture.PNG](data:image/png;base64,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)"
      ]
    },
    {
      "cell_type": "code",
      "execution_count": null,
      "metadata": {
        "id": "JXe6j5Qi0MDY"
      },
      "outputs": [],
      "source": [
        "import warnings\n",
        "\n",
        "# Suppress FutureWarning messages\n",
        "warnings.simplefilter(action='ignore', category=FutureWarning)\n",
        "\n",
        "# Define your DataFrame 'data' and the target variable name\n",
        "data = df  # Replace 'your_data_frame' with your actual DataFrame\n",
        "target_variable = 'defaut'  # Replace 'default.payment.next.month' with your actual target variable name\n",
        "\n",
        "# Define continuous and discrete variables manually\n",
        "continuous_vars = num_col\n",
        "discrete_vars = cat_col\n",
        "\n",
        "# Define the function iv_woe\n",
        "def iv_woe(data, target, bins=10, show_woe=False, continuous_vars=[], discrete_vars=[]):\n",
        "    # Dictionary to store WOE tables for each variable\n",
        "    woe_tables = {}\n",
        "    iv_values = {}  # To store IV values for each variable\n",
        "\n",
        "    # Run WOE and IV on continuous independent variables\n",
        "    for ivars in continuous_vars:\n",
        "        d0 = pd.DataFrame({'x': data[ivars], 'y': data[target]})\n",
        "\n",
        "        # Calculate the number of events in each group (bin)\n",
        "        d = d0.groupby(pd.qcut(data[ivars], bins, duplicates='drop'), observed=False).agg({\"y\": [\"count\", \"sum\"]}).reset_index()\n",
        "        d.columns = ['Cutoff', 'N', 'Events']\n",
        "\n",
        "        # Calculate % of events in each group.\n",
        "        d['% of Events'] = np.maximum(d['Events'], 0.5) / d['Events'].sum()\n",
        "\n",
        "        d['Default Rate'] = d['Events'] / len(data)\n",
        "\n",
        "        # Calculate the non events in each group.\n",
        "        d['Non-Events'] = d['N'] - d['Events']\n",
        "        # Calculate % of non events in each group.\n",
        "        d['% of Non-Events'] = np.maximum(d['Non-Events'], 0.5) / d['Non-Events'].sum()\n",
        "\n",
        "        # Calculate WOE by taking natural log of division of % of non-events and % of events\n",
        "        d['WoE'] = np.log(d['% of Events'] / d['% of Non-Events'])\n",
        "        d['IV'] = d['WoE'] * (d['% of Events'] - d['% of Non-Events'])\n",
        "        d.insert(loc=0, column='Variable', value=ivars)\n",
        "\n",
        "        # Add WOE table to the dictionary\n",
        "        woe_tables[ivars] = d\n",
        "\n",
        "        # Calculate and store IV sum\n",
        "        iv_values[ivars] = d['IV'].sum()\n",
        "\n",
        "        # Show WOE Table\n",
        "        if show_woe == True:\n",
        "            print(d)\n",
        "\n",
        "    # Run WOE and IV on discrete independent variables\n",
        "    for ivars in discrete_vars:\n",
        "        d0 = pd.DataFrame({'x': data[ivars], 'y': data[target]})\n",
        "\n",
        "        # Calculate the number of events in each category\n",
        "        d = d0.groupby('x', observed=False).agg({\"y\": [\"count\", \"sum\"]}).reset_index()\n",
        "        d.columns = ['Cutoff', 'N', 'Events']\n",
        "\n",
        "        # Calculate % of events in each category.\n",
        "        d['% of Events'] = np.maximum(d['Events'], 0.5) / d['Events'].sum()\n",
        "\n",
        "        # Calculate the non events in each category.\n",
        "        d['Non-Events'] = d['N'] - d['Events']\n",
        "        # Calculate % of non events in each category.\n",
        "        d['% of Non-Events'] = np.maximum(d['Non-Events'], 0.5) / d['Non-Events'].sum()\n",
        "\n",
        "        # Calculate WOE by taking natural log of division of % of non-events and % of events\n",
        "        d['WoE'] = np.log(d['% of Events'] / d['% of Non-Events'])\n",
        "        d['IV'] = d['WoE'] * (d['% of Events'] - d['% of Non-Events'])\n",
        "        d.insert(loc=0, column='Variable', value=ivars)\n",
        "\n",
        "        # Add WOE table to the dictionary\n",
        "        woe_tables[ivars] = d\n",
        "\n",
        "        # Calculate and store IV sum\n",
        "        iv_values[ivars] = d['IV'].sum()\n",
        "\n",
        "        # Show WOE Table\n",
        "        if show_woe == True:\n",
        "            print(d)\n",
        "\n",
        "    return woe_tables, iv_values\n",
        "\n",
        "# Call the iv_woe function with your data and target variable\n",
        "woe_tables, iv_values = iv_woe(data, target_variable, bins=3, show_woe=True, continuous_vars=continuous_vars, discrete_vars=discrete_vars)\n",
        "\n",
        "# Display the sum of IV for each variable\n",
        "print(\"\\nInformation Value (IV) for each variable:\")\n",
        "for var, iv in iv_values.items():\n",
        "    print(f\"{var}: {iv}\")\n"
      ]
    },
    {
      "cell_type": "markdown",
      "metadata": {
        "id": "LryDN2on1Jzx"
      },
      "source": [
        "**INTERPRETATION:**\n",
        "\n",
        "1-La discrétisation des variables continues facilite l’analyse et les rend plus compatibles avec les modèles prédictifs.\n",
        "\n",
        "2-Le Weight of Evidence (WOE) est une méthode essentielle pour transformer les variables discrétisées en une forme exploitable, capturant efficacement les liens entre chaque catégorie et la cible.\n",
        "\n",
        "3-L’Information Value (IV) permet d’évaluer quantitativement le pouvoir prédictif des variables, aidant à sélectionner celles qui sont les plus informatives et pertinentes pour la modélisation.\n"
      ]
    },
    {
      "cell_type": "markdown",
      "metadata": {
        "id": "MJO1WTamVzGf"
      },
      "source": [
        "**Conclusion :**\n",
        "\n",
        "Après l’analyse des variables à l’aide du WOE et de l’IV, les étapes suivantes ont été réalisées :\n",
        "\n",
        "**1-Variables conservées après vérification du WOE :**\n",
        "Les variables suivantes montrent une relation significative et cohérente avec la cible, rendant leur inclusion pertinente pour la modélisation :\n",
        "\n",
        "CHIFFRE_AFFAIRES, RESULTAT_NET, FONDS_DE_ROULEMENT, TRESORIE_NETTE, Rentabilité nette%, age_tier, age_ent, TOTAL_PASSIF, AUTO_FINANCEMENT, FRAIS_FINANCIERS, QUALITE_INFORMATION_FINANCIERE, Categorie_juridique, NIVEAU_COMPETITIVITE, Cote en bourse, Appartenance à un groupe.\n",
        "Ces variables sont linéaires et monotones avec la cible, facilitant leur utilisation dans des modèles avancés.\n",
        "\n",
        "**2-Variables conservées après vérification de l’IV :**\n",
        "\n",
        "-RESULTAT_NET : IV = 0.49386 – Excellente capacité discriminante, indispensable.\n",
        "-TRESORIE_NETTE : IV = 0.26279 – Pouvoir discriminant modéré mais utile.\n",
        "-AUTO_FINANCEMENT : IV = 0.10734 – Variable modérément pertinente.\n",
        "-FRAIS_FINANCIERS : IV = 0.16445 – Modérément informative, à inclure avec précaution.\n",
        "-Rentabilité nette% : IV = 0.68783 – Forte capacité discriminante, à prioriser.\n",
        "-age_tier : IV = 0.26559 – Modérément utile pour le modèle.\n",
        "-NIVEAU_COMPETITIVITE : IV = 0.05490 – Pouvoir discriminant faible mais significatif.\n",
        "\n",
        "**Synthèse :**\n",
        "\n",
        "Les variables telles que RESULTAT_NET, Rentabilité nette%, et TRESORIE_NETTE présentent un fort pouvoir discriminant et devraient être privilégiées dans les modèles.\n",
        "\n",
        "En revanche, des variables avec un IV faible, comme NIVEAU_COMPETITIVITE, peuvent nécessiter des ajustements ou transformations pour améliorer leur pertinence.\n",
        "En excluant les variables peu significatives, le modèle gagne en simplicité et en efficacité. Ces sélections garantissent un jeu de données optimisé pour des analyses prédictives robustes.\n",
        "\n",
        "\n",
        "\n",
        "\n",
        "\n",
        "\n"
      ]
    },
    {
      "cell_type": "code",
      "execution_count": null,
      "metadata": {
        "id": "sMT81SUG1YfY"
      },
      "outputs": [],
      "source": [
        "numerical =['RESULTAT_NET','TRESORIE_NETTE','AUTO_FINANCEMENT',\n",
        "          'FRAIS_FINANCIERS','Rentabiliténette%','age_tier']\n",
        "cat= ['NIVEAU_COMPETITIVITE']"
      ]
    },
    {
      "cell_type": "markdown",
      "metadata": {
        "id": "61qqMZAz53wH"
      },
      "source": [
        "**Division des intervalles des valeurs numériques en bins pour faciliter l'analyse et la visualisation des données**"
      ]
    },
    {
      "cell_type": "code",
      "execution_count": null,
      "metadata": {
        "id": "4ZFqRsfa4SEZ"
      },
      "outputs": [],
      "source": [
        "# Function to apply binning to numerical variables and display intervals\n",
        "def apply_binning_with_intervals(data, variables, bins=10):\n",
        "    bin_intervals = {}  # Dictionary to store bin intervals for each variable\n",
        "\n",
        "    for var in variables:\n",
        "        # Apply pd.qcut to bin the variable\n",
        "        try:\n",
        "            binning_result = pd.qcut(data[var], bins, duplicates='drop', retbins=True)\n",
        "            binned_data = binning_result[0]  # The binned series\n",
        "            bin_edges = binning_result[1]  # The bin edges\n",
        "\n",
        "            # Create bin labels and store intervals\n",
        "            bin_labels = [f\"Bin_{i+1}\" for i in range(len(bin_edges) - 1)]\n",
        "            bin_intervals[var] = {label: f\"[{bin_edges[i]:.2f}, {bin_edges[i+1]:.2f})\"\n",
        "                                  for i, label in enumerate(bin_labels)}\n",
        "\n",
        "            # Replace original values with bin labels\n",
        "            data[var] = pd.qcut(data[var], bins, labels=bin_labels, duplicates='drop')\n",
        "\n",
        "        except ValueError:\n",
        "            print(f\"Warning: Not enough unique values to create {bins} bins for variable '{var}'.\")\n",
        "\n",
        "    return data, bin_intervals\n",
        "\n",
        "# Apply binning to the continuous variables in 'num_col'\n",
        "binned_data, bin_intervals = apply_binning_with_intervals(data.copy(), continuous_vars, bins=3)\n",
        "# Display the bin intervals for each variable\n",
        "print(\"\\nBin Intervals for Each Numerical Variable:\")\n",
        "for var, intervals in bin_intervals.items():\n",
        "    print(f\"\\nVariable: {var}\")\n",
        "    for bin_label, interval in intervals.items():\n",
        "        print(f\"  {bin_label}: {interval}\")"
      ]
    },
    {
      "cell_type": "code",
      "execution_count": null,
      "metadata": {
        "id": "xWs_pqVa6Eh1"
      },
      "outputs": [],
      "source": [
        "# Function to map bin labels to simple integer values\n",
        "def encode_bins_as_integers(data, bin_intervals, variables):\n",
        "    for var in variables:\n",
        "        if var in bin_intervals:\n",
        "            # Create a mapping of bin labels to integers\n",
        "            bin_labels = list(bin_intervals[var].keys())  # Get bin labels\n",
        "            label_to_int_mapping = {label: idx for idx, label in enumerate(bin_labels)}\n",
        "\n",
        "            # Replace bin labels with integers\n",
        "            data[var] = data[var].map(label_to_int_mapping)\n",
        "        else:\n",
        "            print(f\"Warning: No bin intervals found for variable '{var}'. Skipping encoding.\")\n",
        "\n",
        "    return data\n",
        "\n",
        "# Apply integer encoding to the binned data\n",
        "encoded_data = encode_bins_as_integers(binned_data.copy(), bin_intervals, continuous_vars)\n",
        "\n",
        "# Display the updated DataFrame with integer-encoded values\n",
        "print(\"\\nData with Integer-Encoded Values for Numerical Variables:\")\n",
        "print(encoded_data[continuous_vars])  # Show only the numerical variables with encoded values\n"
      ]
    },
    {
      "cell_type": "markdown",
      "metadata": {
        "id": "Cuwt4YUS6a0U"
      },
      "source": [
        "**Conversion de toutes les valeurs du jeu de données en entiers pour uniformiser le type de données**"
      ]
    },
    {
      "cell_type": "code",
      "execution_count": null,
      "metadata": {
        "id": "z-Oi3swJ6QCG"
      },
      "outputs": [],
      "source": [
        "# Function to convert all values in the dataset to integers\n",
        "def convert_all_to_int(data):\n",
        "    # Convert continuous variables to integers\n",
        "    data = data.apply(pd.to_numeric, errors='coerce')  # Ensure all values are numeric\n",
        "\n",
        "    # For categorical columns, apply integer encoding\n",
        "    for column in data.select_dtypes(include=['object']).columns:  # Apply to categorical columns\n",
        "        data[column] = data[column].astype('category').cat.codes\n",
        "\n",
        "    # Convert all columns to integers\n",
        "    data = data.astype(int)\n",
        "\n",
        "    return data\n",
        "\n",
        "# Convert all values in the dataset to integers\n",
        "data = convert_all_to_int(encoded_data.copy())\n",
        "\n",
        "# Display the updated DataFrame with integer values\n",
        "print(\"\\nData with All Values Converted to Integers:\")\n",
        "print(data)"
      ]
    },
    {
      "cell_type": "markdown",
      "metadata": {
        "id": "7g7V1ykL7FZK"
      },
      "source": [
        "**LA Nouvelle Data Frame**"
      ]
    },
    {
      "cell_type": "markdown",
      "metadata": {
        "id": "zJx1bFijX6Bb"
      },
      "source": [
        "Après la discrétisation des variables continues, toutes les variables du nouveau DataFrame sont désormais qualitatives. Afin d’assurer la qualité des analyses, il est essentiel de vérifier les corrélations entre ces variables. Cette vérification permet de détecter d’éventuelles corrélations élevées qui pourraient entraîner des problèmes de multicolinéarité dans les modèles, compromettant ainsi la fiabilité des résultats."
      ]
    },
    {
      "cell_type": "code",
      "execution_count": null,
      "metadata": {
        "id": "JDfy1tMH642k"
      },
      "outputs": [],
      "source": [
        "df1=data[['defaut','RESULTAT_NET','TRESORIE_NETTE','AUTO_FINANCEMENT',\n",
        "          'FRAIS_FINANCIERS','Rentabiliténette%','age_tier','NIVEAU_COMPETITIVITE']]"
      ]
    },
    {
      "cell_type": "code",
      "execution_count": null,
      "metadata": {
        "id": "yZw1khNt7Xt8"
      },
      "outputs": [],
      "source": [
        "df1.head()"
      ]
    },
    {
      "cell_type": "code",
      "execution_count": null,
      "metadata": {
        "id": "-IjMrzmf7j-Z"
      },
      "outputs": [],
      "source": [
        "from scipy.stats import chi2_contingency\n",
        "\n",
        "# Function to calculate V-Cramer's V\n",
        "def cramers_v(x, y):\n",
        "    confusion_matrix = pd.crosstab(x, y)\n",
        "    chi2 = chi2_contingency(confusion_matrix)[0]\n",
        "    n = confusion_matrix.sum().sum()\n",
        "    phi2 = chi2 / n\n",
        "    r, k = confusion_matrix.shape\n",
        "    phi2corr = max(0, phi2 - ((k - 1) * (r - 1)) / (n - 1))\n",
        "    rcorr = r - ((r - 1) ** 2) / (n - 1)\n",
        "    kcorr = k - ((k - 1) ** 2) / (n - 1)\n",
        "    return np.sqrt(phi2corr / min((kcorr - 1), (rcorr - 1)))\n",
        "\n",
        "# Calculate V-Cramer's V for all pairs of variables\n",
        "correlation_matrix = pd.DataFrame(index=df1.columns, columns=df1.columns)\n",
        "for i in df1.columns:\n",
        "    for j in df1.columns:\n",
        "        correlation_matrix.loc[i, j] = cramers_v(df1[i], df1[j])\n",
        "\n",
        "# Display the correlation matrix\n",
        "print(correlation_matrix)\n",
        "\n"
      ]
    },
    {
      "cell_type": "code",
      "execution_count": null,
      "metadata": {
        "id": "2L5rtFMm8jW5"
      },
      "outputs": [],
      "source": [
        "from scipy.stats import chi2_contingency\n",
        "\n",
        "# Function to calculate V-Cramer's V\n",
        "def cramers_v(x, y):\n",
        "    confusion_matrix = pd.crosstab(x, y)\n",
        "    chi2 = chi2_contingency(confusion_matrix)[0]\n",
        "    n = confusion_matrix.sum().sum()\n",
        "    phi2 = chi2 / n\n",
        "    r, k = confusion_matrix.shape\n",
        "    phi2corr = max(0, phi2 - ((k - 1) * (r - 1)) / (n - 1))\n",
        "    rcorr = r - ((r - 1) ** 2) / (n - 1)\n",
        "    kcorr = k - ((k - 1) ** 2) / (n - 1)\n",
        "    return np.sqrt(phi2corr / min((kcorr - 1), (rcorr - 1)))\n",
        "\n",
        "# Calculate V-Cramer's V for all pairs of variables\n",
        "correlation_matrix = pd.DataFrame(index=df1.columns, columns=df1.columns)\n",
        "for i in df1.columns:\n",
        "    for j in df1.columns:\n",
        "        correlation_matrix.loc[i, j] = cramers_v(df1[i], df1[j])\n",
        "\n",
        "# Display the correlation matrix\n",
        "print(correlation_matrix)\n"
      ]
    },
    {
      "cell_type": "code",
      "execution_count": null,
      "metadata": {
        "id": "uzYKme5R9_U6"
      },
      "outputs": [],
      "source": [
        "# Plot the correlation matrix using a heatmap\n",
        "plt.figure(figsize=(12, 10))\n",
        "sns.heatmap(correlation_matrix.astype(float), annot=True, cmap='coolwarm', fmt='.2f', linewidths=0.5)\n",
        "plt.title('Correlation Matrix (V-Cramer\\'s V)')\n",
        "plt.show()"
      ]
    },
    {
      "cell_type": "markdown",
      "metadata": {
        "id": "xjuPeooXc_9J"
      },
      "source": [
        "**1-Absence de multicolinéarité majeure :**\n",
        "\n",
        "La plupart des corrélations entre les variables sont faibles (inférieures à 0.5), ce qui suggère une faible association entre les variables qualitatives et un risque limité de multicolinéarité.\n",
        "\n",
        "**2-Corrélations significatives :** Quelques corrélations modérées apparaissent, notamment entre :\n",
        "\n",
        "-RESULTAT_NET et Rentabiliténette% (0.66), indiquant une relation notable entre ces deux variables.\n",
        "-RESULTAT_NET et AUTO_FINANCEMENT (0.53), ce qui peut refléter une certaine dépendance logique dans les données.\n",
        "\n",
        "**3-Variables faiblement corrélées :**\n",
        "\n",
        " Les autres variables montrent des corrélations très faibles, notamment avec NIVEAU_COMPETITIVITE ou age_tier, ce qui pourrait indiquer une contribution indépendante à l’analyse."
      ]
    },
    {
      "cell_type": "markdown",
      "metadata": {
        "id": "UC3Lk6wF-m2C"
      },
      "source": [
        "**MODEL: Random Forest**"
      ]
    },
    {
      "cell_type": "code",
      "execution_count": null,
      "metadata": {
        "id": "76mB4gMu-UCq"
      },
      "outputs": [],
      "source": [
        "from sklearn.ensemble import RandomForestClassifier\n",
        "from sklearn.model_selection import train_test_split\n",
        "from sklearn.preprocessing import StandardScaler\n",
        "from sklearn.metrics import accuracy_score, classification_report, confusion_matrix\n",
        "\n",
        "data = df1\n",
        "\n",
        "# Separate the target variable from the features\n",
        "X = data.drop(['defaut'], axis=1)\n",
        "y = data['defaut']\n",
        "\n",
        "# Split the data into training and testing sets (80% train, 20% test)\n",
        "X_train, X_test, y_train, y_test = train_test_split(X, y, test_size=0.2, random_state=42)\n",
        "\n",
        "# Convert the target variable to integer type\n",
        "y_train = y_train.astype(int)\n",
        "y_test = y_test.astype(int)\n",
        "\n",
        "# Separate numerical and categorical features\n",
        "numerical_columns = X_train.select_dtypes(include=['int64', 'float64']).columns\n",
        "categorical_columns = X_train.select_dtypes(include=['object']).columns\n",
        "\n",
        "# Scale numerical features\n",
        "scaler = StandardScaler()\n",
        "X_train_numerical_scaled = scaler.fit_transform(X_train[numerical_columns])\n",
        "X_test_numerical_scaled = scaler.transform(X_test[numerical_columns])\n",
        "\n",
        "# Concatenate scaled numerical features with categorical features\n",
        "X_train_scaled_df = pd.DataFrame(X_train_numerical_scaled, columns=numerical_columns, index=X_train.index)\n",
        "X_train_scaled_df = pd.concat([X_train_scaled_df, X_train[categorical_columns]], axis=1)\n",
        "\n",
        "X_test_scaled_df = pd.DataFrame(X_test_numerical_scaled, columns=numerical_columns, index=X_test.index)\n",
        "X_test_scaled_df = pd.concat([X_test_scaled_df, X_test[categorical_columns]], axis=1)\n",
        "# Assuming X_train_scaled_df and y_train are already prepared\n",
        "\n",
        "# 3. Train the Random Forest classifier\n",
        "rf_classifier = RandomForestClassifier(n_estimators=400, random_state=40)\n",
        "rf_classifier.fit(X_train_scaled_df, y_train)\n",
        "\n",
        "# 4. Evaluate its performance\n",
        "y_pred_rf = rf_classifier.predict(X_test_scaled_df)\n",
        "\n",
        "accuracy_rf = accuracy_score(y_test, y_pred_rf)\n",
        "print(\"Accuracy (Random Forest):\", accuracy_rf)\n",
        "\n",
        "# Additional evaluation metrics\n",
        "print(\"\\nClassification Report (Random Forest):\\n\", classification_report(y_test, y_pred_rf))\n",
        "print(\"\\nConfusion Matrix (Random Forest):\\n\", confusion_matrix(y_test, y_pred_rf))\n"
      ]
    },
    {
      "cell_type": "code",
      "execution_count": null,
      "metadata": {
        "id": "4zg5uii__Iz6"
      },
      "outputs": [],
      "source": [
        "from sklearn.metrics import roc_auc_score\n",
        "\n",
        "# Predict probabilities for class 1 (default)\n",
        "y_proba_rf = rf_classifier.predict_proba(X_test_scaled_df)[:, 1]\n",
        "\n",
        "# Calculate Gini index\n",
        "gini_index_rf = 2 * roc_auc_score(y_test, y_proba_rf) - 1\n",
        "\n",
        "print(\"Gini Index (Random Forest):\", gini_index_rf)"
      ]
    },
    {
      "cell_type": "code",
      "execution_count": null,
      "metadata": {
        "id": "2aoJXJn0_hOx"
      },
      "outputs": [],
      "source": [
        "print(roc_auc_score(y_test, y_proba_rf))"
      ]
    }
  ],
  "metadata": {
    "colab": {
      "provenance": []
    },
    "kernelspec": {
      "display_name": "Python 3",
      "name": "python3"
    },
    "language_info": {
      "name": "python"
    }
  },
  "nbformat": 4,
  "nbformat_minor": 0
}